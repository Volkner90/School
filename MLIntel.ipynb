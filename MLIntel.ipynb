{
  "nbformat": 4,
  "nbformat_minor": 0,
  "metadata": {
    "colab": {
      "provenance": [],
      "toc_visible": true,
      "include_colab_link": true
    },
    "kernelspec": {
      "name": "python3",
      "display_name": "Python 3"
    },
    "language_info": {
      "name": "python"
    },
    "widgets": {
      "application/vnd.jupyter.widget-state+json": {
        "3a8e3221a7b243b78d0e9bd3a0193ab5": {
          "model_module": "@jupyter-widgets/controls",
          "model_name": "HBoxModel",
          "model_module_version": "1.5.0",
          "state": {
            "_dom_classes": [],
            "_model_module": "@jupyter-widgets/controls",
            "_model_module_version": "1.5.0",
            "_model_name": "HBoxModel",
            "_view_count": null,
            "_view_module": "@jupyter-widgets/controls",
            "_view_module_version": "1.5.0",
            "_view_name": "HBoxView",
            "box_style": "",
            "children": [
              "IPY_MODEL_d9b6bcab4bcf4f6bbebc1847d72f93b8",
              "IPY_MODEL_64a25e1f8b1a488797ae9cda0468b36e",
              "IPY_MODEL_1ca3a4a25bc14796b863ebe79ea5df58"
            ],
            "layout": "IPY_MODEL_9f57645d8edd4d45b4169db90943eca2"
          }
        },
        "d9b6bcab4bcf4f6bbebc1847d72f93b8": {
          "model_module": "@jupyter-widgets/controls",
          "model_name": "HTMLModel",
          "model_module_version": "1.5.0",
          "state": {
            "_dom_classes": [],
            "_model_module": "@jupyter-widgets/controls",
            "_model_module_version": "1.5.0",
            "_model_name": "HTMLModel",
            "_view_count": null,
            "_view_module": "@jupyter-widgets/controls",
            "_view_module_version": "1.5.0",
            "_view_name": "HTMLView",
            "description": "",
            "description_tooltip": null,
            "layout": "IPY_MODEL_2a3efc26a33c4321bb1798b25ec64002",
            "placeholder": "​",
            "style": "IPY_MODEL_61bb5e5ced1c47ea9dd59a21f63ffaf6",
            "value": ""
          }
        },
        "64a25e1f8b1a488797ae9cda0468b36e": {
          "model_module": "@jupyter-widgets/controls",
          "model_name": "FloatProgressModel",
          "model_module_version": "1.5.0",
          "state": {
            "_dom_classes": [],
            "_model_module": "@jupyter-widgets/controls",
            "_model_module_version": "1.5.0",
            "_model_name": "FloatProgressModel",
            "_view_count": null,
            "_view_module": "@jupyter-widgets/controls",
            "_view_module_version": "1.5.0",
            "_view_name": "ProgressView",
            "bar_style": "success",
            "description": "",
            "description_tooltip": null,
            "layout": "IPY_MODEL_6453579218c944d99063eb2cd1bea34f",
            "max": 9912422,
            "min": 0,
            "orientation": "horizontal",
            "style": "IPY_MODEL_aee8a58eec0c47979593d86b5a2ba6b5",
            "value": 9912422
          }
        },
        "1ca3a4a25bc14796b863ebe79ea5df58": {
          "model_module": "@jupyter-widgets/controls",
          "model_name": "HTMLModel",
          "model_module_version": "1.5.0",
          "state": {
            "_dom_classes": [],
            "_model_module": "@jupyter-widgets/controls",
            "_model_module_version": "1.5.0",
            "_model_name": "HTMLModel",
            "_view_count": null,
            "_view_module": "@jupyter-widgets/controls",
            "_view_module_version": "1.5.0",
            "_view_name": "HTMLView",
            "description": "",
            "description_tooltip": null,
            "layout": "IPY_MODEL_40d3ec8524584661956271b9b77fdf6a",
            "placeholder": "​",
            "style": "IPY_MODEL_3c0386ff6dac4b33a3e0d49c6c4467fc",
            "value": " 9913344/? [00:00&lt;00:00, 25936831.65it/s]"
          }
        },
        "9f57645d8edd4d45b4169db90943eca2": {
          "model_module": "@jupyter-widgets/base",
          "model_name": "LayoutModel",
          "model_module_version": "1.2.0",
          "state": {
            "_model_module": "@jupyter-widgets/base",
            "_model_module_version": "1.2.0",
            "_model_name": "LayoutModel",
            "_view_count": null,
            "_view_module": "@jupyter-widgets/base",
            "_view_module_version": "1.2.0",
            "_view_name": "LayoutView",
            "align_content": null,
            "align_items": null,
            "align_self": null,
            "border": null,
            "bottom": null,
            "display": null,
            "flex": null,
            "flex_flow": null,
            "grid_area": null,
            "grid_auto_columns": null,
            "grid_auto_flow": null,
            "grid_auto_rows": null,
            "grid_column": null,
            "grid_gap": null,
            "grid_row": null,
            "grid_template_areas": null,
            "grid_template_columns": null,
            "grid_template_rows": null,
            "height": null,
            "justify_content": null,
            "justify_items": null,
            "left": null,
            "margin": null,
            "max_height": null,
            "max_width": null,
            "min_height": null,
            "min_width": null,
            "object_fit": null,
            "object_position": null,
            "order": null,
            "overflow": null,
            "overflow_x": null,
            "overflow_y": null,
            "padding": null,
            "right": null,
            "top": null,
            "visibility": null,
            "width": null
          }
        },
        "2a3efc26a33c4321bb1798b25ec64002": {
          "model_module": "@jupyter-widgets/base",
          "model_name": "LayoutModel",
          "model_module_version": "1.2.0",
          "state": {
            "_model_module": "@jupyter-widgets/base",
            "_model_module_version": "1.2.0",
            "_model_name": "LayoutModel",
            "_view_count": null,
            "_view_module": "@jupyter-widgets/base",
            "_view_module_version": "1.2.0",
            "_view_name": "LayoutView",
            "align_content": null,
            "align_items": null,
            "align_self": null,
            "border": null,
            "bottom": null,
            "display": null,
            "flex": null,
            "flex_flow": null,
            "grid_area": null,
            "grid_auto_columns": null,
            "grid_auto_flow": null,
            "grid_auto_rows": null,
            "grid_column": null,
            "grid_gap": null,
            "grid_row": null,
            "grid_template_areas": null,
            "grid_template_columns": null,
            "grid_template_rows": null,
            "height": null,
            "justify_content": null,
            "justify_items": null,
            "left": null,
            "margin": null,
            "max_height": null,
            "max_width": null,
            "min_height": null,
            "min_width": null,
            "object_fit": null,
            "object_position": null,
            "order": null,
            "overflow": null,
            "overflow_x": null,
            "overflow_y": null,
            "padding": null,
            "right": null,
            "top": null,
            "visibility": null,
            "width": null
          }
        },
        "61bb5e5ced1c47ea9dd59a21f63ffaf6": {
          "model_module": "@jupyter-widgets/controls",
          "model_name": "DescriptionStyleModel",
          "model_module_version": "1.5.0",
          "state": {
            "_model_module": "@jupyter-widgets/controls",
            "_model_module_version": "1.5.0",
            "_model_name": "DescriptionStyleModel",
            "_view_count": null,
            "_view_module": "@jupyter-widgets/base",
            "_view_module_version": "1.2.0",
            "_view_name": "StyleView",
            "description_width": ""
          }
        },
        "6453579218c944d99063eb2cd1bea34f": {
          "model_module": "@jupyter-widgets/base",
          "model_name": "LayoutModel",
          "model_module_version": "1.2.0",
          "state": {
            "_model_module": "@jupyter-widgets/base",
            "_model_module_version": "1.2.0",
            "_model_name": "LayoutModel",
            "_view_count": null,
            "_view_module": "@jupyter-widgets/base",
            "_view_module_version": "1.2.0",
            "_view_name": "LayoutView",
            "align_content": null,
            "align_items": null,
            "align_self": null,
            "border": null,
            "bottom": null,
            "display": null,
            "flex": null,
            "flex_flow": null,
            "grid_area": null,
            "grid_auto_columns": null,
            "grid_auto_flow": null,
            "grid_auto_rows": null,
            "grid_column": null,
            "grid_gap": null,
            "grid_row": null,
            "grid_template_areas": null,
            "grid_template_columns": null,
            "grid_template_rows": null,
            "height": null,
            "justify_content": null,
            "justify_items": null,
            "left": null,
            "margin": null,
            "max_height": null,
            "max_width": null,
            "min_height": null,
            "min_width": null,
            "object_fit": null,
            "object_position": null,
            "order": null,
            "overflow": null,
            "overflow_x": null,
            "overflow_y": null,
            "padding": null,
            "right": null,
            "top": null,
            "visibility": null,
            "width": null
          }
        },
        "aee8a58eec0c47979593d86b5a2ba6b5": {
          "model_module": "@jupyter-widgets/controls",
          "model_name": "ProgressStyleModel",
          "model_module_version": "1.5.0",
          "state": {
            "_model_module": "@jupyter-widgets/controls",
            "_model_module_version": "1.5.0",
            "_model_name": "ProgressStyleModel",
            "_view_count": null,
            "_view_module": "@jupyter-widgets/base",
            "_view_module_version": "1.2.0",
            "_view_name": "StyleView",
            "bar_color": null,
            "description_width": ""
          }
        },
        "40d3ec8524584661956271b9b77fdf6a": {
          "model_module": "@jupyter-widgets/base",
          "model_name": "LayoutModel",
          "model_module_version": "1.2.0",
          "state": {
            "_model_module": "@jupyter-widgets/base",
            "_model_module_version": "1.2.0",
            "_model_name": "LayoutModel",
            "_view_count": null,
            "_view_module": "@jupyter-widgets/base",
            "_view_module_version": "1.2.0",
            "_view_name": "LayoutView",
            "align_content": null,
            "align_items": null,
            "align_self": null,
            "border": null,
            "bottom": null,
            "display": null,
            "flex": null,
            "flex_flow": null,
            "grid_area": null,
            "grid_auto_columns": null,
            "grid_auto_flow": null,
            "grid_auto_rows": null,
            "grid_column": null,
            "grid_gap": null,
            "grid_row": null,
            "grid_template_areas": null,
            "grid_template_columns": null,
            "grid_template_rows": null,
            "height": null,
            "justify_content": null,
            "justify_items": null,
            "left": null,
            "margin": null,
            "max_height": null,
            "max_width": null,
            "min_height": null,
            "min_width": null,
            "object_fit": null,
            "object_position": null,
            "order": null,
            "overflow": null,
            "overflow_x": null,
            "overflow_y": null,
            "padding": null,
            "right": null,
            "top": null,
            "visibility": null,
            "width": null
          }
        },
        "3c0386ff6dac4b33a3e0d49c6c4467fc": {
          "model_module": "@jupyter-widgets/controls",
          "model_name": "DescriptionStyleModel",
          "model_module_version": "1.5.0",
          "state": {
            "_model_module": "@jupyter-widgets/controls",
            "_model_module_version": "1.5.0",
            "_model_name": "DescriptionStyleModel",
            "_view_count": null,
            "_view_module": "@jupyter-widgets/base",
            "_view_module_version": "1.2.0",
            "_view_name": "StyleView",
            "description_width": ""
          }
        },
        "512e6405fa694351a995cc9810a3197b": {
          "model_module": "@jupyter-widgets/controls",
          "model_name": "HBoxModel",
          "model_module_version": "1.5.0",
          "state": {
            "_dom_classes": [],
            "_model_module": "@jupyter-widgets/controls",
            "_model_module_version": "1.5.0",
            "_model_name": "HBoxModel",
            "_view_count": null,
            "_view_module": "@jupyter-widgets/controls",
            "_view_module_version": "1.5.0",
            "_view_name": "HBoxView",
            "box_style": "",
            "children": [
              "IPY_MODEL_e31be40c14554e26b6a0c0b054036926",
              "IPY_MODEL_ac30aa9d6d6c40a8b122cb5e91bd9fa8",
              "IPY_MODEL_3d47884dc9cc406aa60c151d5ef98868"
            ],
            "layout": "IPY_MODEL_7717b14423624ff5bfce4cf2dddac230"
          }
        },
        "e31be40c14554e26b6a0c0b054036926": {
          "model_module": "@jupyter-widgets/controls",
          "model_name": "HTMLModel",
          "model_module_version": "1.5.0",
          "state": {
            "_dom_classes": [],
            "_model_module": "@jupyter-widgets/controls",
            "_model_module_version": "1.5.0",
            "_model_name": "HTMLModel",
            "_view_count": null,
            "_view_module": "@jupyter-widgets/controls",
            "_view_module_version": "1.5.0",
            "_view_name": "HTMLView",
            "description": "",
            "description_tooltip": null,
            "layout": "IPY_MODEL_06a7f6e911914e45858907ca7a5e11a7",
            "placeholder": "​",
            "style": "IPY_MODEL_dcaac3facf77426e96f57f0eccab477d",
            "value": ""
          }
        },
        "ac30aa9d6d6c40a8b122cb5e91bd9fa8": {
          "model_module": "@jupyter-widgets/controls",
          "model_name": "FloatProgressModel",
          "model_module_version": "1.5.0",
          "state": {
            "_dom_classes": [],
            "_model_module": "@jupyter-widgets/controls",
            "_model_module_version": "1.5.0",
            "_model_name": "FloatProgressModel",
            "_view_count": null,
            "_view_module": "@jupyter-widgets/controls",
            "_view_module_version": "1.5.0",
            "_view_name": "ProgressView",
            "bar_style": "success",
            "description": "",
            "description_tooltip": null,
            "layout": "IPY_MODEL_209caeaac7c2420cb6933d04453d43ce",
            "max": 28881,
            "min": 0,
            "orientation": "horizontal",
            "style": "IPY_MODEL_9e3cdea218b64f828c8bd50833ea8a8b",
            "value": 28881
          }
        },
        "3d47884dc9cc406aa60c151d5ef98868": {
          "model_module": "@jupyter-widgets/controls",
          "model_name": "HTMLModel",
          "model_module_version": "1.5.0",
          "state": {
            "_dom_classes": [],
            "_model_module": "@jupyter-widgets/controls",
            "_model_module_version": "1.5.0",
            "_model_name": "HTMLModel",
            "_view_count": null,
            "_view_module": "@jupyter-widgets/controls",
            "_view_module_version": "1.5.0",
            "_view_name": "HTMLView",
            "description": "",
            "description_tooltip": null,
            "layout": "IPY_MODEL_8940f7d0a74a4f9eab622d1b858616b6",
            "placeholder": "​",
            "style": "IPY_MODEL_93e9d37df6c8402d8457adde5f9245a7",
            "value": " 29696/? [00:00&lt;00:00, 570164.07it/s]"
          }
        },
        "7717b14423624ff5bfce4cf2dddac230": {
          "model_module": "@jupyter-widgets/base",
          "model_name": "LayoutModel",
          "model_module_version": "1.2.0",
          "state": {
            "_model_module": "@jupyter-widgets/base",
            "_model_module_version": "1.2.0",
            "_model_name": "LayoutModel",
            "_view_count": null,
            "_view_module": "@jupyter-widgets/base",
            "_view_module_version": "1.2.0",
            "_view_name": "LayoutView",
            "align_content": null,
            "align_items": null,
            "align_self": null,
            "border": null,
            "bottom": null,
            "display": null,
            "flex": null,
            "flex_flow": null,
            "grid_area": null,
            "grid_auto_columns": null,
            "grid_auto_flow": null,
            "grid_auto_rows": null,
            "grid_column": null,
            "grid_gap": null,
            "grid_row": null,
            "grid_template_areas": null,
            "grid_template_columns": null,
            "grid_template_rows": null,
            "height": null,
            "justify_content": null,
            "justify_items": null,
            "left": null,
            "margin": null,
            "max_height": null,
            "max_width": null,
            "min_height": null,
            "min_width": null,
            "object_fit": null,
            "object_position": null,
            "order": null,
            "overflow": null,
            "overflow_x": null,
            "overflow_y": null,
            "padding": null,
            "right": null,
            "top": null,
            "visibility": null,
            "width": null
          }
        },
        "06a7f6e911914e45858907ca7a5e11a7": {
          "model_module": "@jupyter-widgets/base",
          "model_name": "LayoutModel",
          "model_module_version": "1.2.0",
          "state": {
            "_model_module": "@jupyter-widgets/base",
            "_model_module_version": "1.2.0",
            "_model_name": "LayoutModel",
            "_view_count": null,
            "_view_module": "@jupyter-widgets/base",
            "_view_module_version": "1.2.0",
            "_view_name": "LayoutView",
            "align_content": null,
            "align_items": null,
            "align_self": null,
            "border": null,
            "bottom": null,
            "display": null,
            "flex": null,
            "flex_flow": null,
            "grid_area": null,
            "grid_auto_columns": null,
            "grid_auto_flow": null,
            "grid_auto_rows": null,
            "grid_column": null,
            "grid_gap": null,
            "grid_row": null,
            "grid_template_areas": null,
            "grid_template_columns": null,
            "grid_template_rows": null,
            "height": null,
            "justify_content": null,
            "justify_items": null,
            "left": null,
            "margin": null,
            "max_height": null,
            "max_width": null,
            "min_height": null,
            "min_width": null,
            "object_fit": null,
            "object_position": null,
            "order": null,
            "overflow": null,
            "overflow_x": null,
            "overflow_y": null,
            "padding": null,
            "right": null,
            "top": null,
            "visibility": null,
            "width": null
          }
        },
        "dcaac3facf77426e96f57f0eccab477d": {
          "model_module": "@jupyter-widgets/controls",
          "model_name": "DescriptionStyleModel",
          "model_module_version": "1.5.0",
          "state": {
            "_model_module": "@jupyter-widgets/controls",
            "_model_module_version": "1.5.0",
            "_model_name": "DescriptionStyleModel",
            "_view_count": null,
            "_view_module": "@jupyter-widgets/base",
            "_view_module_version": "1.2.0",
            "_view_name": "StyleView",
            "description_width": ""
          }
        },
        "209caeaac7c2420cb6933d04453d43ce": {
          "model_module": "@jupyter-widgets/base",
          "model_name": "LayoutModel",
          "model_module_version": "1.2.0",
          "state": {
            "_model_module": "@jupyter-widgets/base",
            "_model_module_version": "1.2.0",
            "_model_name": "LayoutModel",
            "_view_count": null,
            "_view_module": "@jupyter-widgets/base",
            "_view_module_version": "1.2.0",
            "_view_name": "LayoutView",
            "align_content": null,
            "align_items": null,
            "align_self": null,
            "border": null,
            "bottom": null,
            "display": null,
            "flex": null,
            "flex_flow": null,
            "grid_area": null,
            "grid_auto_columns": null,
            "grid_auto_flow": null,
            "grid_auto_rows": null,
            "grid_column": null,
            "grid_gap": null,
            "grid_row": null,
            "grid_template_areas": null,
            "grid_template_columns": null,
            "grid_template_rows": null,
            "height": null,
            "justify_content": null,
            "justify_items": null,
            "left": null,
            "margin": null,
            "max_height": null,
            "max_width": null,
            "min_height": null,
            "min_width": null,
            "object_fit": null,
            "object_position": null,
            "order": null,
            "overflow": null,
            "overflow_x": null,
            "overflow_y": null,
            "padding": null,
            "right": null,
            "top": null,
            "visibility": null,
            "width": null
          }
        },
        "9e3cdea218b64f828c8bd50833ea8a8b": {
          "model_module": "@jupyter-widgets/controls",
          "model_name": "ProgressStyleModel",
          "model_module_version": "1.5.0",
          "state": {
            "_model_module": "@jupyter-widgets/controls",
            "_model_module_version": "1.5.0",
            "_model_name": "ProgressStyleModel",
            "_view_count": null,
            "_view_module": "@jupyter-widgets/base",
            "_view_module_version": "1.2.0",
            "_view_name": "StyleView",
            "bar_color": null,
            "description_width": ""
          }
        },
        "8940f7d0a74a4f9eab622d1b858616b6": {
          "model_module": "@jupyter-widgets/base",
          "model_name": "LayoutModel",
          "model_module_version": "1.2.0",
          "state": {
            "_model_module": "@jupyter-widgets/base",
            "_model_module_version": "1.2.0",
            "_model_name": "LayoutModel",
            "_view_count": null,
            "_view_module": "@jupyter-widgets/base",
            "_view_module_version": "1.2.0",
            "_view_name": "LayoutView",
            "align_content": null,
            "align_items": null,
            "align_self": null,
            "border": null,
            "bottom": null,
            "display": null,
            "flex": null,
            "flex_flow": null,
            "grid_area": null,
            "grid_auto_columns": null,
            "grid_auto_flow": null,
            "grid_auto_rows": null,
            "grid_column": null,
            "grid_gap": null,
            "grid_row": null,
            "grid_template_areas": null,
            "grid_template_columns": null,
            "grid_template_rows": null,
            "height": null,
            "justify_content": null,
            "justify_items": null,
            "left": null,
            "margin": null,
            "max_height": null,
            "max_width": null,
            "min_height": null,
            "min_width": null,
            "object_fit": null,
            "object_position": null,
            "order": null,
            "overflow": null,
            "overflow_x": null,
            "overflow_y": null,
            "padding": null,
            "right": null,
            "top": null,
            "visibility": null,
            "width": null
          }
        },
        "93e9d37df6c8402d8457adde5f9245a7": {
          "model_module": "@jupyter-widgets/controls",
          "model_name": "DescriptionStyleModel",
          "model_module_version": "1.5.0",
          "state": {
            "_model_module": "@jupyter-widgets/controls",
            "_model_module_version": "1.5.0",
            "_model_name": "DescriptionStyleModel",
            "_view_count": null,
            "_view_module": "@jupyter-widgets/base",
            "_view_module_version": "1.2.0",
            "_view_name": "StyleView",
            "description_width": ""
          }
        },
        "0310f667608d42839b26e62570c28d41": {
          "model_module": "@jupyter-widgets/controls",
          "model_name": "HBoxModel",
          "model_module_version": "1.5.0",
          "state": {
            "_dom_classes": [],
            "_model_module": "@jupyter-widgets/controls",
            "_model_module_version": "1.5.0",
            "_model_name": "HBoxModel",
            "_view_count": null,
            "_view_module": "@jupyter-widgets/controls",
            "_view_module_version": "1.5.0",
            "_view_name": "HBoxView",
            "box_style": "",
            "children": [
              "IPY_MODEL_a95b7a1238444002a5030f9082196875",
              "IPY_MODEL_bf3f4b7cd57149b1a395043d64700095",
              "IPY_MODEL_fc46ef1cab4248c589dbc17c92085eac"
            ],
            "layout": "IPY_MODEL_f6ebc88b68614af4a45f66677d137500"
          }
        },
        "a95b7a1238444002a5030f9082196875": {
          "model_module": "@jupyter-widgets/controls",
          "model_name": "HTMLModel",
          "model_module_version": "1.5.0",
          "state": {
            "_dom_classes": [],
            "_model_module": "@jupyter-widgets/controls",
            "_model_module_version": "1.5.0",
            "_model_name": "HTMLModel",
            "_view_count": null,
            "_view_module": "@jupyter-widgets/controls",
            "_view_module_version": "1.5.0",
            "_view_name": "HTMLView",
            "description": "",
            "description_tooltip": null,
            "layout": "IPY_MODEL_8918b2a5ae6344f2972bb357f2ad2ee6",
            "placeholder": "​",
            "style": "IPY_MODEL_160e8332e22e46f1b3c84f0bd2698057",
            "value": ""
          }
        },
        "bf3f4b7cd57149b1a395043d64700095": {
          "model_module": "@jupyter-widgets/controls",
          "model_name": "FloatProgressModel",
          "model_module_version": "1.5.0",
          "state": {
            "_dom_classes": [],
            "_model_module": "@jupyter-widgets/controls",
            "_model_module_version": "1.5.0",
            "_model_name": "FloatProgressModel",
            "_view_count": null,
            "_view_module": "@jupyter-widgets/controls",
            "_view_module_version": "1.5.0",
            "_view_name": "ProgressView",
            "bar_style": "success",
            "description": "",
            "description_tooltip": null,
            "layout": "IPY_MODEL_68bec0eca4774e56890ad555d0fb7e16",
            "max": 1648877,
            "min": 0,
            "orientation": "horizontal",
            "style": "IPY_MODEL_1b1c9bb3d29240ec90e0dab853948e58",
            "value": 1648877
          }
        },
        "fc46ef1cab4248c589dbc17c92085eac": {
          "model_module": "@jupyter-widgets/controls",
          "model_name": "HTMLModel",
          "model_module_version": "1.5.0",
          "state": {
            "_dom_classes": [],
            "_model_module": "@jupyter-widgets/controls",
            "_model_module_version": "1.5.0",
            "_model_name": "HTMLModel",
            "_view_count": null,
            "_view_module": "@jupyter-widgets/controls",
            "_view_module_version": "1.5.0",
            "_view_name": "HTMLView",
            "description": "",
            "description_tooltip": null,
            "layout": "IPY_MODEL_d1209cdb8c1848e29103c22c15a0c3a6",
            "placeholder": "​",
            "style": "IPY_MODEL_d4a8d5195b1e40989c574819ce70cc0d",
            "value": " 1649664/? [00:00&lt;00:00, 25652670.91it/s]"
          }
        },
        "f6ebc88b68614af4a45f66677d137500": {
          "model_module": "@jupyter-widgets/base",
          "model_name": "LayoutModel",
          "model_module_version": "1.2.0",
          "state": {
            "_model_module": "@jupyter-widgets/base",
            "_model_module_version": "1.2.0",
            "_model_name": "LayoutModel",
            "_view_count": null,
            "_view_module": "@jupyter-widgets/base",
            "_view_module_version": "1.2.0",
            "_view_name": "LayoutView",
            "align_content": null,
            "align_items": null,
            "align_self": null,
            "border": null,
            "bottom": null,
            "display": null,
            "flex": null,
            "flex_flow": null,
            "grid_area": null,
            "grid_auto_columns": null,
            "grid_auto_flow": null,
            "grid_auto_rows": null,
            "grid_column": null,
            "grid_gap": null,
            "grid_row": null,
            "grid_template_areas": null,
            "grid_template_columns": null,
            "grid_template_rows": null,
            "height": null,
            "justify_content": null,
            "justify_items": null,
            "left": null,
            "margin": null,
            "max_height": null,
            "max_width": null,
            "min_height": null,
            "min_width": null,
            "object_fit": null,
            "object_position": null,
            "order": null,
            "overflow": null,
            "overflow_x": null,
            "overflow_y": null,
            "padding": null,
            "right": null,
            "top": null,
            "visibility": null,
            "width": null
          }
        },
        "8918b2a5ae6344f2972bb357f2ad2ee6": {
          "model_module": "@jupyter-widgets/base",
          "model_name": "LayoutModel",
          "model_module_version": "1.2.0",
          "state": {
            "_model_module": "@jupyter-widgets/base",
            "_model_module_version": "1.2.0",
            "_model_name": "LayoutModel",
            "_view_count": null,
            "_view_module": "@jupyter-widgets/base",
            "_view_module_version": "1.2.0",
            "_view_name": "LayoutView",
            "align_content": null,
            "align_items": null,
            "align_self": null,
            "border": null,
            "bottom": null,
            "display": null,
            "flex": null,
            "flex_flow": null,
            "grid_area": null,
            "grid_auto_columns": null,
            "grid_auto_flow": null,
            "grid_auto_rows": null,
            "grid_column": null,
            "grid_gap": null,
            "grid_row": null,
            "grid_template_areas": null,
            "grid_template_columns": null,
            "grid_template_rows": null,
            "height": null,
            "justify_content": null,
            "justify_items": null,
            "left": null,
            "margin": null,
            "max_height": null,
            "max_width": null,
            "min_height": null,
            "min_width": null,
            "object_fit": null,
            "object_position": null,
            "order": null,
            "overflow": null,
            "overflow_x": null,
            "overflow_y": null,
            "padding": null,
            "right": null,
            "top": null,
            "visibility": null,
            "width": null
          }
        },
        "160e8332e22e46f1b3c84f0bd2698057": {
          "model_module": "@jupyter-widgets/controls",
          "model_name": "DescriptionStyleModel",
          "model_module_version": "1.5.0",
          "state": {
            "_model_module": "@jupyter-widgets/controls",
            "_model_module_version": "1.5.0",
            "_model_name": "DescriptionStyleModel",
            "_view_count": null,
            "_view_module": "@jupyter-widgets/base",
            "_view_module_version": "1.2.0",
            "_view_name": "StyleView",
            "description_width": ""
          }
        },
        "68bec0eca4774e56890ad555d0fb7e16": {
          "model_module": "@jupyter-widgets/base",
          "model_name": "LayoutModel",
          "model_module_version": "1.2.0",
          "state": {
            "_model_module": "@jupyter-widgets/base",
            "_model_module_version": "1.2.0",
            "_model_name": "LayoutModel",
            "_view_count": null,
            "_view_module": "@jupyter-widgets/base",
            "_view_module_version": "1.2.0",
            "_view_name": "LayoutView",
            "align_content": null,
            "align_items": null,
            "align_self": null,
            "border": null,
            "bottom": null,
            "display": null,
            "flex": null,
            "flex_flow": null,
            "grid_area": null,
            "grid_auto_columns": null,
            "grid_auto_flow": null,
            "grid_auto_rows": null,
            "grid_column": null,
            "grid_gap": null,
            "grid_row": null,
            "grid_template_areas": null,
            "grid_template_columns": null,
            "grid_template_rows": null,
            "height": null,
            "justify_content": null,
            "justify_items": null,
            "left": null,
            "margin": null,
            "max_height": null,
            "max_width": null,
            "min_height": null,
            "min_width": null,
            "object_fit": null,
            "object_position": null,
            "order": null,
            "overflow": null,
            "overflow_x": null,
            "overflow_y": null,
            "padding": null,
            "right": null,
            "top": null,
            "visibility": null,
            "width": null
          }
        },
        "1b1c9bb3d29240ec90e0dab853948e58": {
          "model_module": "@jupyter-widgets/controls",
          "model_name": "ProgressStyleModel",
          "model_module_version": "1.5.0",
          "state": {
            "_model_module": "@jupyter-widgets/controls",
            "_model_module_version": "1.5.0",
            "_model_name": "ProgressStyleModel",
            "_view_count": null,
            "_view_module": "@jupyter-widgets/base",
            "_view_module_version": "1.2.0",
            "_view_name": "StyleView",
            "bar_color": null,
            "description_width": ""
          }
        },
        "d1209cdb8c1848e29103c22c15a0c3a6": {
          "model_module": "@jupyter-widgets/base",
          "model_name": "LayoutModel",
          "model_module_version": "1.2.0",
          "state": {
            "_model_module": "@jupyter-widgets/base",
            "_model_module_version": "1.2.0",
            "_model_name": "LayoutModel",
            "_view_count": null,
            "_view_module": "@jupyter-widgets/base",
            "_view_module_version": "1.2.0",
            "_view_name": "LayoutView",
            "align_content": null,
            "align_items": null,
            "align_self": null,
            "border": null,
            "bottom": null,
            "display": null,
            "flex": null,
            "flex_flow": null,
            "grid_area": null,
            "grid_auto_columns": null,
            "grid_auto_flow": null,
            "grid_auto_rows": null,
            "grid_column": null,
            "grid_gap": null,
            "grid_row": null,
            "grid_template_areas": null,
            "grid_template_columns": null,
            "grid_template_rows": null,
            "height": null,
            "justify_content": null,
            "justify_items": null,
            "left": null,
            "margin": null,
            "max_height": null,
            "max_width": null,
            "min_height": null,
            "min_width": null,
            "object_fit": null,
            "object_position": null,
            "order": null,
            "overflow": null,
            "overflow_x": null,
            "overflow_y": null,
            "padding": null,
            "right": null,
            "top": null,
            "visibility": null,
            "width": null
          }
        },
        "d4a8d5195b1e40989c574819ce70cc0d": {
          "model_module": "@jupyter-widgets/controls",
          "model_name": "DescriptionStyleModel",
          "model_module_version": "1.5.0",
          "state": {
            "_model_module": "@jupyter-widgets/controls",
            "_model_module_version": "1.5.0",
            "_model_name": "DescriptionStyleModel",
            "_view_count": null,
            "_view_module": "@jupyter-widgets/base",
            "_view_module_version": "1.2.0",
            "_view_name": "StyleView",
            "description_width": ""
          }
        },
        "9218b51e40c646c591a2d86e2f849449": {
          "model_module": "@jupyter-widgets/controls",
          "model_name": "HBoxModel",
          "model_module_version": "1.5.0",
          "state": {
            "_dom_classes": [],
            "_model_module": "@jupyter-widgets/controls",
            "_model_module_version": "1.5.0",
            "_model_name": "HBoxModel",
            "_view_count": null,
            "_view_module": "@jupyter-widgets/controls",
            "_view_module_version": "1.5.0",
            "_view_name": "HBoxView",
            "box_style": "",
            "children": [
              "IPY_MODEL_fdab683c345e466cbb959d7bcf8380ed",
              "IPY_MODEL_04ff38da559145bb9f93c2a7a1c50616",
              "IPY_MODEL_941a51e1be0a4ea990091acb9628a1f7"
            ],
            "layout": "IPY_MODEL_8d80bb8f7c91415b99174bb8d4131dda"
          }
        },
        "fdab683c345e466cbb959d7bcf8380ed": {
          "model_module": "@jupyter-widgets/controls",
          "model_name": "HTMLModel",
          "model_module_version": "1.5.0",
          "state": {
            "_dom_classes": [],
            "_model_module": "@jupyter-widgets/controls",
            "_model_module_version": "1.5.0",
            "_model_name": "HTMLModel",
            "_view_count": null,
            "_view_module": "@jupyter-widgets/controls",
            "_view_module_version": "1.5.0",
            "_view_name": "HTMLView",
            "description": "",
            "description_tooltip": null,
            "layout": "IPY_MODEL_d064fbcc06e642ebbe191bae2c72dd55",
            "placeholder": "​",
            "style": "IPY_MODEL_0855d0ddafd8498cb25bfc6ad848a5d3",
            "value": ""
          }
        },
        "04ff38da559145bb9f93c2a7a1c50616": {
          "model_module": "@jupyter-widgets/controls",
          "model_name": "FloatProgressModel",
          "model_module_version": "1.5.0",
          "state": {
            "_dom_classes": [],
            "_model_module": "@jupyter-widgets/controls",
            "_model_module_version": "1.5.0",
            "_model_name": "FloatProgressModel",
            "_view_count": null,
            "_view_module": "@jupyter-widgets/controls",
            "_view_module_version": "1.5.0",
            "_view_name": "ProgressView",
            "bar_style": "success",
            "description": "",
            "description_tooltip": null,
            "layout": "IPY_MODEL_7755d3ebf26a4ead92c2f34ef8554041",
            "max": 4542,
            "min": 0,
            "orientation": "horizontal",
            "style": "IPY_MODEL_9a3134fd26034e49811a012e6d15346f",
            "value": 4542
          }
        },
        "941a51e1be0a4ea990091acb9628a1f7": {
          "model_module": "@jupyter-widgets/controls",
          "model_name": "HTMLModel",
          "model_module_version": "1.5.0",
          "state": {
            "_dom_classes": [],
            "_model_module": "@jupyter-widgets/controls",
            "_model_module_version": "1.5.0",
            "_model_name": "HTMLModel",
            "_view_count": null,
            "_view_module": "@jupyter-widgets/controls",
            "_view_module_version": "1.5.0",
            "_view_name": "HTMLView",
            "description": "",
            "description_tooltip": null,
            "layout": "IPY_MODEL_679c4206b0934797a3fc404f4be3f5be",
            "placeholder": "​",
            "style": "IPY_MODEL_9e1e21090b84476ab67e9222a2b24076",
            "value": " 5120/? [00:00&lt;00:00, 139829.25it/s]"
          }
        },
        "8d80bb8f7c91415b99174bb8d4131dda": {
          "model_module": "@jupyter-widgets/base",
          "model_name": "LayoutModel",
          "model_module_version": "1.2.0",
          "state": {
            "_model_module": "@jupyter-widgets/base",
            "_model_module_version": "1.2.0",
            "_model_name": "LayoutModel",
            "_view_count": null,
            "_view_module": "@jupyter-widgets/base",
            "_view_module_version": "1.2.0",
            "_view_name": "LayoutView",
            "align_content": null,
            "align_items": null,
            "align_self": null,
            "border": null,
            "bottom": null,
            "display": null,
            "flex": null,
            "flex_flow": null,
            "grid_area": null,
            "grid_auto_columns": null,
            "grid_auto_flow": null,
            "grid_auto_rows": null,
            "grid_column": null,
            "grid_gap": null,
            "grid_row": null,
            "grid_template_areas": null,
            "grid_template_columns": null,
            "grid_template_rows": null,
            "height": null,
            "justify_content": null,
            "justify_items": null,
            "left": null,
            "margin": null,
            "max_height": null,
            "max_width": null,
            "min_height": null,
            "min_width": null,
            "object_fit": null,
            "object_position": null,
            "order": null,
            "overflow": null,
            "overflow_x": null,
            "overflow_y": null,
            "padding": null,
            "right": null,
            "top": null,
            "visibility": null,
            "width": null
          }
        },
        "d064fbcc06e642ebbe191bae2c72dd55": {
          "model_module": "@jupyter-widgets/base",
          "model_name": "LayoutModel",
          "model_module_version": "1.2.0",
          "state": {
            "_model_module": "@jupyter-widgets/base",
            "_model_module_version": "1.2.0",
            "_model_name": "LayoutModel",
            "_view_count": null,
            "_view_module": "@jupyter-widgets/base",
            "_view_module_version": "1.2.0",
            "_view_name": "LayoutView",
            "align_content": null,
            "align_items": null,
            "align_self": null,
            "border": null,
            "bottom": null,
            "display": null,
            "flex": null,
            "flex_flow": null,
            "grid_area": null,
            "grid_auto_columns": null,
            "grid_auto_flow": null,
            "grid_auto_rows": null,
            "grid_column": null,
            "grid_gap": null,
            "grid_row": null,
            "grid_template_areas": null,
            "grid_template_columns": null,
            "grid_template_rows": null,
            "height": null,
            "justify_content": null,
            "justify_items": null,
            "left": null,
            "margin": null,
            "max_height": null,
            "max_width": null,
            "min_height": null,
            "min_width": null,
            "object_fit": null,
            "object_position": null,
            "order": null,
            "overflow": null,
            "overflow_x": null,
            "overflow_y": null,
            "padding": null,
            "right": null,
            "top": null,
            "visibility": null,
            "width": null
          }
        },
        "0855d0ddafd8498cb25bfc6ad848a5d3": {
          "model_module": "@jupyter-widgets/controls",
          "model_name": "DescriptionStyleModel",
          "model_module_version": "1.5.0",
          "state": {
            "_model_module": "@jupyter-widgets/controls",
            "_model_module_version": "1.5.0",
            "_model_name": "DescriptionStyleModel",
            "_view_count": null,
            "_view_module": "@jupyter-widgets/base",
            "_view_module_version": "1.2.0",
            "_view_name": "StyleView",
            "description_width": ""
          }
        },
        "7755d3ebf26a4ead92c2f34ef8554041": {
          "model_module": "@jupyter-widgets/base",
          "model_name": "LayoutModel",
          "model_module_version": "1.2.0",
          "state": {
            "_model_module": "@jupyter-widgets/base",
            "_model_module_version": "1.2.0",
            "_model_name": "LayoutModel",
            "_view_count": null,
            "_view_module": "@jupyter-widgets/base",
            "_view_module_version": "1.2.0",
            "_view_name": "LayoutView",
            "align_content": null,
            "align_items": null,
            "align_self": null,
            "border": null,
            "bottom": null,
            "display": null,
            "flex": null,
            "flex_flow": null,
            "grid_area": null,
            "grid_auto_columns": null,
            "grid_auto_flow": null,
            "grid_auto_rows": null,
            "grid_column": null,
            "grid_gap": null,
            "grid_row": null,
            "grid_template_areas": null,
            "grid_template_columns": null,
            "grid_template_rows": null,
            "height": null,
            "justify_content": null,
            "justify_items": null,
            "left": null,
            "margin": null,
            "max_height": null,
            "max_width": null,
            "min_height": null,
            "min_width": null,
            "object_fit": null,
            "object_position": null,
            "order": null,
            "overflow": null,
            "overflow_x": null,
            "overflow_y": null,
            "padding": null,
            "right": null,
            "top": null,
            "visibility": null,
            "width": null
          }
        },
        "9a3134fd26034e49811a012e6d15346f": {
          "model_module": "@jupyter-widgets/controls",
          "model_name": "ProgressStyleModel",
          "model_module_version": "1.5.0",
          "state": {
            "_model_module": "@jupyter-widgets/controls",
            "_model_module_version": "1.5.0",
            "_model_name": "ProgressStyleModel",
            "_view_count": null,
            "_view_module": "@jupyter-widgets/base",
            "_view_module_version": "1.2.0",
            "_view_name": "StyleView",
            "bar_color": null,
            "description_width": ""
          }
        },
        "679c4206b0934797a3fc404f4be3f5be": {
          "model_module": "@jupyter-widgets/base",
          "model_name": "LayoutModel",
          "model_module_version": "1.2.0",
          "state": {
            "_model_module": "@jupyter-widgets/base",
            "_model_module_version": "1.2.0",
            "_model_name": "LayoutModel",
            "_view_count": null,
            "_view_module": "@jupyter-widgets/base",
            "_view_module_version": "1.2.0",
            "_view_name": "LayoutView",
            "align_content": null,
            "align_items": null,
            "align_self": null,
            "border": null,
            "bottom": null,
            "display": null,
            "flex": null,
            "flex_flow": null,
            "grid_area": null,
            "grid_auto_columns": null,
            "grid_auto_flow": null,
            "grid_auto_rows": null,
            "grid_column": null,
            "grid_gap": null,
            "grid_row": null,
            "grid_template_areas": null,
            "grid_template_columns": null,
            "grid_template_rows": null,
            "height": null,
            "justify_content": null,
            "justify_items": null,
            "left": null,
            "margin": null,
            "max_height": null,
            "max_width": null,
            "min_height": null,
            "min_width": null,
            "object_fit": null,
            "object_position": null,
            "order": null,
            "overflow": null,
            "overflow_x": null,
            "overflow_y": null,
            "padding": null,
            "right": null,
            "top": null,
            "visibility": null,
            "width": null
          }
        },
        "9e1e21090b84476ab67e9222a2b24076": {
          "model_module": "@jupyter-widgets/controls",
          "model_name": "DescriptionStyleModel",
          "model_module_version": "1.5.0",
          "state": {
            "_model_module": "@jupyter-widgets/controls",
            "_model_module_version": "1.5.0",
            "_model_name": "DescriptionStyleModel",
            "_view_count": null,
            "_view_module": "@jupyter-widgets/base",
            "_view_module_version": "1.2.0",
            "_view_name": "StyleView",
            "description_width": ""
          }
        }
      }
    }
  },
  "cells": [
    {
      "cell_type": "markdown",
      "metadata": {
        "id": "view-in-github",
        "colab_type": "text"
      },
      "source": [
        "<a href=\"https://colab.research.google.com/github/Volkner90/School/blob/main/MLIntel.ipynb\" target=\"_parent\"><img src=\"https://colab.research.google.com/assets/colab-badge.svg\" alt=\"Open In Colab\"/></a>"
      ]
    },
    {
      "cell_type": "markdown",
      "source": [
        "# A first Neural Network\n",
        "### *by Rodrigo Camacho*, June, 2022\n",
        "In this example, we will explore how to implement a simple fully connected, multi-layer neural network using [python](https://www.python.org/) and [pytorch](https://pytorch.org/).\n",
        "\n",
        "No prior knowlede of python is needed. However, some programming knowledge in anyother language is required. We will explain most of the python stuff as we go through the example. A good place to start learning  about python is the official [Python tutorial](https://docs.python.org/3/tutorial) or this [W3's python tutorial](https://www.w3schools.com/python/default.asp). \n",
        "\n",
        "We will use Pytorch, but most of the concepts have very close analogs in other frameworks like TensorFlow. You can learn Pytorch following their [pytorch tutorials](https://pytorch.org/tutorials/)\n",
        "\n",
        "**Warning:** *Python minds about indentation... pay attention to indentation when following the examples* \n",
        "\n",
        "The only requisite is that you attended the sessions where we talked about Neural Networks and their training. Here are links to the recorded sessions:\n",
        "\n",
        "[session 1](https://intel-my.sharepoint.com/:v:/p/jorge_romero_aragon/EYDeQweifodFt2vmn-79JyoBWYMREj8eXX8fkNdHhUJEQQ) - Artificial Neurons\n",
        "\n",
        "[session 2](https://intel-my.sharepoint.com/:v:/p/rodrigo_camacho/EfmGMbOIM6xOp5bWpzCB6gkBeybNyUHEaK8wFOneRBnynA?e=iNlv1G) - Multi-layer Neural Networks\n",
        "\n",
        "\n",
        "Also, here is a link to the recorded session where we went through this notebook (although I did some updates) in case you prefer to follow the video instead of reading this text:\n",
        "\n",
        "[session 3](https://intel-my.sharepoint.com/:v:/p/rodrigo_camacho/EbewGif2B4ZJhvORoefVQ4oBWeGLTTkHdDJykEXHGf2NNg?e=70pWbP) - A first example in pytorch\n",
        "\n",
        "Finally, here is a link to the [Teams Folder](https://intel.sharepoint.com/:f:/s/ILSSPL/EjNN98Itx5dOrrc-bwca6G4BrM_JjTCa6e5JTtDNCh4MTQ?e=xhNgql) where we keep the slides:\n",
        "\n",
        "---\n"
      ],
      "metadata": {
        "id": "Cdz_JUbWPM6p"
      }
    },
    {
      "cell_type": "markdown",
      "source": [
        "# Python Modules\n",
        "We start by importing the required \"modules\". A [module](https://docs.python.org/3/tutorial/modules.html) is a kind of collection of python files with some functionality. When you start python, you get only the baseline functionalities in python. If you need more specialized functionality, like neural networks, you need to import a \"module\" for such tasks."
      ],
      "metadata": {
        "id": "OHexvrruV5uD"
      }
    },
    {
      "cell_type": "code",
      "execution_count": null,
      "metadata": {
        "id": "wdpUucl40ycW"
      },
      "outputs": [],
      "source": [
        "import torch  # this is the baseline functionality of Pytorch"
      ]
    },
    {
      "cell_type": "markdown",
      "source": [
        "In python, you can import a full module or a portion of it with the construct:\n",
        "\n",
        ">**from** *module* **import** *sub_module*\n",
        "\n",
        "Let us import pytorch's [datasets](https://pytorch.org/vision/stable/datasets.html) module that will let us load images for our example"
      ],
      "metadata": {
        "id": "yK2J_m9nSsga"
      }
    },
    {
      "cell_type": "code",
      "source": [
        "from torchvision import datasets # a module that let's you load popular datasets \n",
        "                                 # for training a neural network"
      ],
      "metadata": {
        "id": "14gPvlLbSdbv"
      },
      "execution_count": null,
      "outputs": []
    },
    {
      "cell_type": "markdown",
      "source": [
        "You can also import sections of a module by refering to it as:\n",
        "\n",
        ">**import** *module.submodule*\n",
        "\n",
        "However, to use it, you need refer to it with the full *module.submodule* and this can be cumbersome.\n",
        "\n",
        "Instead, you can rename it in your code using:\n",
        "\n",
        ">**import** *module.submodule* **as** *nickname*\n",
        "\n",
        "Let us import the **transforms** submodule that will help us to easily modify the images so we can use them"
      ],
      "metadata": {
        "id": "41rmLpFrTIrZ"
      }
    },
    {
      "cell_type": "code",
      "source": [
        "import torchvision.transforms as transforms  # The data in datasets is not \n",
        "                                  # always in the format we need. This module \n",
        "                                  #let's you easily modify \n",
        "\n",
        "import torchvision.utils as vision_utils  # submodule with useful functions for\n",
        "                                  # handling images\n",
        "\n",
        "import torch.optim as optim  # submodule wiht different otimization (or learning)\n",
        "                            # algorithms"
      ],
      "metadata": {
        "id": "2lPcVVoHSgwP"
      },
      "execution_count": null,
      "outputs": []
    },
    {
      "cell_type": "markdown",
      "source": [
        "# Getting data: Datasets\n",
        "In this example we will try to make a fully-connected, multi-layer neural network to recognize hand-written digits.\n",
        "\n",
        "Thus, let us load [MNIST](https://en.wikipedia.org/wiki/MNIST_database), a database with 70k images of hand-written digits. This database is split in 60k images for training and 10k images for testing. \n",
        "\n",
        "As other image databases, MNIST is a collection of image files labeled with the corresponding digit label. \n",
        "\n",
        "To consume these files, we need to first copy them to our local drive. We could in principle access them online, but that might be too slow. Then, we would need to write python code to load each file to memory at a time and its corresponding label. \n",
        "\n",
        "Fortunately, we already imported Pytorch's **datasets** module so it will do the heavy lifting for us. \n",
        "It will let us not only load the MNIST image collection but also the corresponding labels and split them into training and testing datasets. \n",
        "\n",
        "We can load the training and testing datasets separately by specifying the option **train=True** for the training portion and **train=False** for the test portion"
      ],
      "metadata": {
        "id": "uYa2Rd_VaJw2"
      }
    },
    {
      "cell_type": "code",
      "source": [
        "# Each sample in the dataset is a tuple (image:PIL[1,28,28],label:int)\n",
        "train_ds = datasets.MNIST('../data', train=True, download=True)\n",
        "test_ds = datasets.MNIST('../data', train=False, download=True)"
      ],
      "metadata": {
        "id": "avOhpUSmYLJE",
        "colab": {
          "base_uri": "https://localhost:8080/",
          "height": 443,
          "referenced_widgets": [
            "3a8e3221a7b243b78d0e9bd3a0193ab5",
            "d9b6bcab4bcf4f6bbebc1847d72f93b8",
            "64a25e1f8b1a488797ae9cda0468b36e",
            "1ca3a4a25bc14796b863ebe79ea5df58",
            "9f57645d8edd4d45b4169db90943eca2",
            "2a3efc26a33c4321bb1798b25ec64002",
            "61bb5e5ced1c47ea9dd59a21f63ffaf6",
            "6453579218c944d99063eb2cd1bea34f",
            "aee8a58eec0c47979593d86b5a2ba6b5",
            "40d3ec8524584661956271b9b77fdf6a",
            "3c0386ff6dac4b33a3e0d49c6c4467fc",
            "512e6405fa694351a995cc9810a3197b",
            "e31be40c14554e26b6a0c0b054036926",
            "ac30aa9d6d6c40a8b122cb5e91bd9fa8",
            "3d47884dc9cc406aa60c151d5ef98868",
            "7717b14423624ff5bfce4cf2dddac230",
            "06a7f6e911914e45858907ca7a5e11a7",
            "dcaac3facf77426e96f57f0eccab477d",
            "209caeaac7c2420cb6933d04453d43ce",
            "9e3cdea218b64f828c8bd50833ea8a8b",
            "8940f7d0a74a4f9eab622d1b858616b6",
            "93e9d37df6c8402d8457adde5f9245a7",
            "0310f667608d42839b26e62570c28d41",
            "a95b7a1238444002a5030f9082196875",
            "bf3f4b7cd57149b1a395043d64700095",
            "fc46ef1cab4248c589dbc17c92085eac",
            "f6ebc88b68614af4a45f66677d137500",
            "8918b2a5ae6344f2972bb357f2ad2ee6",
            "160e8332e22e46f1b3c84f0bd2698057",
            "68bec0eca4774e56890ad555d0fb7e16",
            "1b1c9bb3d29240ec90e0dab853948e58",
            "d1209cdb8c1848e29103c22c15a0c3a6",
            "d4a8d5195b1e40989c574819ce70cc0d",
            "9218b51e40c646c591a2d86e2f849449",
            "fdab683c345e466cbb959d7bcf8380ed",
            "04ff38da559145bb9f93c2a7a1c50616",
            "941a51e1be0a4ea990091acb9628a1f7",
            "8d80bb8f7c91415b99174bb8d4131dda",
            "d064fbcc06e642ebbe191bae2c72dd55",
            "0855d0ddafd8498cb25bfc6ad848a5d3",
            "7755d3ebf26a4ead92c2f34ef8554041",
            "9a3134fd26034e49811a012e6d15346f",
            "679c4206b0934797a3fc404f4be3f5be",
            "9e1e21090b84476ab67e9222a2b24076"
          ]
        },
        "outputId": "c9500427-1eef-4533-d1cc-ed0d484cc129"
      },
      "execution_count": null,
      "outputs": [
        {
          "output_type": "stream",
          "name": "stdout",
          "text": [
            "Downloading http://yann.lecun.com/exdb/mnist/train-images-idx3-ubyte.gz\n",
            "Downloading http://yann.lecun.com/exdb/mnist/train-images-idx3-ubyte.gz to ../data/MNIST/raw/train-images-idx3-ubyte.gz\n"
          ]
        },
        {
          "output_type": "display_data",
          "data": {
            "text/plain": [
              "  0%|          | 0/9912422 [00:00<?, ?it/s]"
            ],
            "application/vnd.jupyter.widget-view+json": {
              "version_major": 2,
              "version_minor": 0,
              "model_id": "3a8e3221a7b243b78d0e9bd3a0193ab5"
            }
          },
          "metadata": {}
        },
        {
          "output_type": "stream",
          "name": "stdout",
          "text": [
            "Extracting ../data/MNIST/raw/train-images-idx3-ubyte.gz to ../data/MNIST/raw\n",
            "\n",
            "Downloading http://yann.lecun.com/exdb/mnist/train-labels-idx1-ubyte.gz\n",
            "Downloading http://yann.lecun.com/exdb/mnist/train-labels-idx1-ubyte.gz to ../data/MNIST/raw/train-labels-idx1-ubyte.gz\n"
          ]
        },
        {
          "output_type": "display_data",
          "data": {
            "text/plain": [
              "  0%|          | 0/28881 [00:00<?, ?it/s]"
            ],
            "application/vnd.jupyter.widget-view+json": {
              "version_major": 2,
              "version_minor": 0,
              "model_id": "512e6405fa694351a995cc9810a3197b"
            }
          },
          "metadata": {}
        },
        {
          "output_type": "stream",
          "name": "stdout",
          "text": [
            "Extracting ../data/MNIST/raw/train-labels-idx1-ubyte.gz to ../data/MNIST/raw\n",
            "\n",
            "Downloading http://yann.lecun.com/exdb/mnist/t10k-images-idx3-ubyte.gz\n",
            "Downloading http://yann.lecun.com/exdb/mnist/t10k-images-idx3-ubyte.gz to ../data/MNIST/raw/t10k-images-idx3-ubyte.gz\n"
          ]
        },
        {
          "output_type": "display_data",
          "data": {
            "text/plain": [
              "  0%|          | 0/1648877 [00:00<?, ?it/s]"
            ],
            "application/vnd.jupyter.widget-view+json": {
              "version_major": 2,
              "version_minor": 0,
              "model_id": "0310f667608d42839b26e62570c28d41"
            }
          },
          "metadata": {}
        },
        {
          "output_type": "stream",
          "name": "stdout",
          "text": [
            "Extracting ../data/MNIST/raw/t10k-images-idx3-ubyte.gz to ../data/MNIST/raw\n",
            "\n",
            "Downloading http://yann.lecun.com/exdb/mnist/t10k-labels-idx1-ubyte.gz\n",
            "Downloading http://yann.lecun.com/exdb/mnist/t10k-labels-idx1-ubyte.gz to ../data/MNIST/raw/t10k-labels-idx1-ubyte.gz\n"
          ]
        },
        {
          "output_type": "display_data",
          "data": {
            "text/plain": [
              "  0%|          | 0/4542 [00:00<?, ?it/s]"
            ],
            "application/vnd.jupyter.widget-view+json": {
              "version_major": 2,
              "version_minor": 0,
              "model_id": "9218b51e40c646c591a2d86e2f849449"
            }
          },
          "metadata": {}
        },
        {
          "output_type": "stream",
          "name": "stdout",
          "text": [
            "Extracting ../data/MNIST/raw/t10k-labels-idx1-ubyte.gz to ../data/MNIST/raw\n",
            "\n"
          ]
        }
      ]
    },
    {
      "cell_type": "markdown",
      "source": [
        "## Objects and Classes\n",
        "So now we have training and testing datasets.\n",
        "\n",
        "Before moving on, we need to know what **train_ds** and **test_ds** actually are.\n",
        "\n",
        "They are \"objects\"... *In python, everything is an object*\n",
        "\n",
        "If you are new to object oriented programming (OOP), just mind that an *object* is a way to encapsulates data (info) and code (functionality). Also, objects are defined according to a kind of blueprint or format called *class*. You can read more about OOP at the [OOP wikipedia entry](https://en.wikipedia.org/wiki/Object-oriented_programming). You can learn more about python's objects and classes in this [objects tutorial](https://www.geeksforgeeks.org/python-classes-and-objects/#:~:text=A%20class%20is%20a%20user,that%20type%20to%20be%20made.) \n",
        "\n",
        "The one thing to keep in mind about Python Objects is that they have \"attributes\" (its data) and \"functions\" (what it can do). You can access both by doing:\n",
        ">myObject.attribute\n",
        "\n",
        ">myObject.function()\n",
        "\n",
        "For now, let us see what kind of object **train_ds** is. In python, a way to know what kind of class is any variables is the function\n",
        "**type()**\n",
        "\n",
        "Also, the function \n",
        "**print(object)**\n",
        "displays the object on the screen (or a file). \n",
        "\n",
        "So let us use both:\n"
      ],
      "metadata": {
        "id": "vyz1FP5Pa-cL"
      }
    },
    {
      "cell_type": "code",
      "source": [
        "print(train_ds)\n",
        "print(type(train_ds))"
      ],
      "metadata": {
        "colab": {
          "base_uri": "https://localhost:8080/"
        },
        "id": "fhExWnPteuhB",
        "outputId": "6dd3f959-9936-4534-c4b9-cc45467ad3a6"
      },
      "execution_count": null,
      "outputs": [
        {
          "output_type": "stream",
          "name": "stdout",
          "text": [
            "Dataset MNIST\n",
            "    Number of datapoints: 60000\n",
            "    Root location: ../data\n",
            "    Split: Train\n",
            "<class 'torchvision.datasets.mnist.MNIST'>\n"
          ]
        }
      ]
    },
    {
      "cell_type": "markdown",
      "source": [
        "So line 1 in the previous section outputs a description of the **train_ds** and we see that it points 60k data points (images in this case) as expected, located at a given location and that this is the \"train\" portion of the set.\n",
        "\n",
        "## Python Lists and Tuples\n",
        "Next, what we need to know is that pytorch's **dataset** class is an extension of a class called \"list\" in python. \n",
        "\n",
        "Two of most fundamental types of objects in python are [list](https://www.w3schools.com/python/python_lists.asp) and [tuple](https://www.w3schools.com/python/python_tuples.asp). So let's spend a few lines describing them. \n",
        "\n",
        "\n",
        "A [list](https://www.w3schools.com/python/python_lists.asp), is a collection of python objects of any class. A [tuple](https://www.w3schools.com/python/python_tuples.asp) in a \"locked down\" list, meaning, it can't change. You can't add or remove elements from it.  \n",
        "\n",
        "In both cases, we can retrieve each element in the list by doing: \n",
        ">mylist[*index*]\n",
        "\n",
        "where **index** is an integer that indicates which specific item in the list we want (first one is index=0). This is called *indexing*\n",
        "\n",
        "To know the number of elements in a list or tuple is:\n",
        "> len(myList)\n",
        "\n",
        "So the datasets **train_ds** and **test_ds** are a collection (similar to a list) that contains objects related to the images and their lables. Each element in the colection can be accessed by indexing. \n",
        "\n",
        "Let's see that in action. Let us print the type of the first element in the **train_ds** dataset:"
      ],
      "metadata": {
        "id": "8-jn1c8prm21"
      }
    },
    {
      "cell_type": "code",
      "source": [
        "print('The number of images in the set is:')\n",
        "print(len(train_ds))\n",
        "\n",
        "print('The type of the first element in train_ds is:')\n",
        "print(type(train_ds[0]))"
      ],
      "metadata": {
        "colab": {
          "base_uri": "https://localhost:8080/"
        },
        "id": "tDfhfe-SfNia",
        "outputId": "16fe9b77-fda3-4c79-f5cb-3e4937e793d6"
      },
      "execution_count": null,
      "outputs": [
        {
          "output_type": "stream",
          "name": "stdout",
          "text": [
            "The number of images in the set is:\n",
            "60000\n",
            "The type of the first element in train_ds is:\n",
            "<class 'tuple'>\n"
          ]
        }
      ]
    },
    {
      "cell_type": "markdown",
      "source": [
        "We see from line 1 that the the first object in **train_ds** is a tuple (a collection). \n",
        "\n",
        "Since each element in **train_ds** is itself a tuple. So it is also a collection and we must be able to access its elements by indexing. \n",
        "In python, multi-level indexing is done by pyling indexes in \"[ ]\" as such:\n",
        ">mylist[index0][index1]...[indexN]\n",
        "\n",
        "So we can get each element in the tuple of the first element in the datases doing:"
      ],
      "metadata": {
        "id": "Be_Y5PDNHN8s"
      }
    },
    {
      "cell_type": "code",
      "source": [
        "print('The number of elements in the first tuple of train_ds is:')\n",
        "print(len(train_ds[0]))\n",
        "\n",
        "print('\\nThe first element in the first tuple of train_ds is of type:')  # \"\\n\" prints a space before\n",
        "print(type(train_ds[0][0])) \n",
        "\n",
        "print('\\nThe second element in the first tuple of train_ds is of type:') # \"\\n\" prints a space before\n",
        "print(type(train_ds[0][1]))  "
      ],
      "metadata": {
        "colab": {
          "base_uri": "https://localhost:8080/"
        },
        "id": "uy1o6zR-MVdz",
        "outputId": "304fb172-071c-402c-9a68-481748a34f57"
      },
      "execution_count": null,
      "outputs": [
        {
          "output_type": "stream",
          "name": "stdout",
          "text": [
            "The number of elements in the first tuple of train_ds is:\n",
            "2\n",
            "\n",
            "The first element in the first tuple of train_ds is of type:\n",
            "<class 'torch.Tensor'>\n",
            "\n",
            "The second element in the first tuple of train_ds is of type:\n",
            "<class 'int'>\n"
          ]
        }
      ]
    },
    {
      "cell_type": "markdown",
      "source": [
        "So, the first element is an image and the second is the integer that it corresponds to. \n",
        "\n",
        "## Pytorch's Transforms\n",
        "So far, so good. However, since the MNIST dataset contains PIL images and Pytorch works with objects called \"tensors\" (more about them later), we need to transform the images into tensors before using them. \n",
        "With Pytorch's [transforms](https://pytorch.org/vision/stable/transforms.html) module we can define a transform and then assign it to a dataset: "
      ],
      "metadata": {
        "id": "53fYJ57fMWYf"
      }
    },
    {
      "cell_type": "code",
      "source": [
        "transform = transforms.ToTensor()\n",
        "\n",
        "train_ds.transform =transform\n",
        "test_ds.transform = transform\n",
        "\n",
        "print('The new type of the first image in train_ds is')\n",
        "print(type(train_ds[0][0]))"
      ],
      "metadata": {
        "colab": {
          "base_uri": "https://localhost:8080/"
        },
        "id": "aBTXukKqYykN",
        "outputId": "af50f7ec-4599-4388-d9ea-9e3a2d9b0a37"
      },
      "execution_count": null,
      "outputs": [
        {
          "output_type": "stream",
          "name": "stdout",
          "text": [
            "The new type of the first image in train_ds is\n",
            "<class 'torch.Tensor'>\n"
          ]
        }
      ]
    },
    {
      "cell_type": "markdown",
      "source": [
        "# Arrays on steroids: Tensors\n",
        "So we have now loaded the dataset and transformed the images into \"tensors\".\n",
        "Tensors are one of the most importan classes in several Machine Learning (ML) frameworks like Pytorch. \n",
        "\n",
        "In short, \"tensors\" are multi-dimensional arrays of numbers with additional functionalities that enable efficient computation (specially on GPUs). We don't need to dive deeper for now. You can later take a look at Pytorch's own [Tensors Tutorial](https://pytorch.org/tutorials/beginner/basics/tensorqs_tutorial.html).\n",
        "\n",
        "For example, a matrix, would be a 2-dimensional tensor because you have row and column dimensions. A 1-dimensional tensor would be an array of only one row (or column).  \n",
        "\n",
        "An image is typically a 3-dimensional Tensor because you have a Color dimension (typically, three, for RGB) plus Height, and Width as shown in this illustration: \n",
        "\n",
        "<img src='https://drive.google.com/uc?export=view&id=1s6Kr6jfzqCaiJB4CoApNEU6FO3XGnXGJ' alt='Image Tensor' width='200' height='200'>\n",
        "\n",
        "Beware however that other frameworks might use a differnet order for [C,H,W]. \n",
        "\n",
        "So, in general you can have any number of dimensions. As you can imagine, a lot more can be said. However, For now, just keep in mind these two aspects about Tensors:\n",
        "\n",
        "1. Accessing Tensor elements is done by indexing. Just state the indices separated by commas inside square brackets:\n",
        "> myTensor[index0,...,indexN]\n",
        "\n",
        "1. Accessing multiple Tensor elements can be done passing a range of indices. For example, you can get mulitple elements of a 1D Tensor from index \"start\" up until a last index \"end\" (but not including it):\n",
        "> myTensor[start:end:step]\n",
        "\n",
        "1. A useful attribute of Tensors is **shape** that will tell you the size of your tensor in every dimension. \n",
        "\n",
        "Let's explore an image:"
      ],
      "metadata": {
        "id": "0reKA9kwRcm6"
      }
    },
    {
      "cell_type": "code",
      "source": [
        "print('The type of the first image in the train dataset is: ')\n",
        "print(type(train_ds[0][0]))  # first tuple of the dataset, first element of the tuple\n",
        "\n",
        "print('\\nThe shape attribute of the image Tensor of the train dataset is: ')\n",
        "print(train_ds[0][0].shape)"
      ],
      "metadata": {
        "colab": {
          "base_uri": "https://localhost:8080/"
        },
        "id": "P3BzegNKLhkM",
        "outputId": "ae79bf2e-a4a6-4422-c49b-2e45642b234c"
      },
      "execution_count": null,
      "outputs": [
        {
          "output_type": "stream",
          "name": "stdout",
          "text": [
            "The type of the first image in the train dataset is: \n",
            "<class 'torch.Tensor'>\n",
            "\n",
            "The shape attribute of the image Tensor of the train dataset is: \n",
            "torch.Size([1, 28, 28])\n"
          ]
        }
      ]
    },
    {
      "cell_type": "markdown",
      "source": [
        "So, you see that the image has three dimensions. The first is the color channel. In this case it is only of size 1 because these are monochromatic images. The next two are height (H) and width (W) both with size 28\n",
        "\n",
        "Let's assing a name to the first image and explore its contents:"
      ],
      "metadata": {
        "id": "LbkDo_NShgsu"
      }
    },
    {
      "cell_type": "code",
      "source": [
        "image0 = train_ds[0][0]  # first tuple in the dataset, first element in the tuple\n",
        "print(type(image0))\n",
        "print(image0.shape)\n",
        "\n",
        "print('The first row of the image is:')\n",
        "print(image0[0,0,0:28])  # first channel, first row, columns 0 to 27 (because \n",
        "                         # the last index is not included in the range construct\n",
        "                         # begin:end)\n",
        "\n",
        "print('The first column of the image is:')\n",
        "print(image0[0,0:28,0])  # first channel, rows 0 to 27, first column\n"
      ],
      "metadata": {
        "colab": {
          "base_uri": "https://localhost:8080/"
        },
        "id": "mN0zBCdNk2s-",
        "outputId": "f616fbe4-d957-4432-db0d-c77b7fd69fcf"
      },
      "execution_count": null,
      "outputs": [
        {
          "output_type": "stream",
          "name": "stdout",
          "text": [
            "<class 'torch.Tensor'>\n",
            "torch.Size([1, 28, 28])\n",
            "The first row of the image is:\n",
            "tensor([0., 0., 0., 0., 0., 0., 0., 0., 0., 0., 0., 0., 0., 0., 0., 0., 0., 0., 0., 0., 0., 0., 0., 0.,\n",
            "        0., 0., 0., 0.])\n",
            "The first column of the image is:\n",
            "tensor([0., 0., 0., 0., 0., 0., 0., 0., 0., 0., 0., 0., 0., 0., 0., 0., 0., 0., 0., 0., 0., 0., 0., 0.,\n",
            "        0., 0., 0., 0.])\n"
          ]
        }
      ]
    },
    {
      "cell_type": "markdown",
      "source": [
        "# Consuming Data: Pytorch DataLoader and Python Iterables\n",
        "We know how to access each element in the dataset now. Yet, for training we need to get data in batches and many times need to shufle them and use parallel processing. Hence, a more efficient way to access the data during training is to use Pytorch's [DataLoader](https://pytorch.org/tutorials/beginner/basics/data_tutorial.html#preparing-your-data-for-training-with-dataloaders).\n",
        "\n",
        "A [DataLoader](https://pytorch.org/tutorials/beginner/basics/data_tutorial.html#preparing-your-data-for-training-with-dataloaders) object in Pytorch is an object that abstracts all those functionalities. It is also what is called an [iterable](https://www.w3schools.com/python/python_iterators.asp) in Python.\n",
        "\n",
        "**Iterables** are objects that have an **iterator** function that that let's you loop through the iterable data efficiently. \n",
        "\n",
        "\n",
        "For now, just keep in mind this about iterators:\n",
        "1. iterables are objects like lists, tuples and DataLoaders from which we can get an iterator object using\n",
        "> myIterator = iter(myIterable)\n",
        "1. iterators are the actual objects that enables looping over the iterable. You can ge the next element by:\n",
        "> next_element = next(myIterator)\n",
        "1. when you use an iterator, you can't access its elements by indexing, you can only request the next one, and the next one (until data is exhausted)\n",
        "\n",
        "Let us then define a dataloader that will return images and labels in batches of 32 shuffled elements:"
      ],
      "metadata": {
        "id": "pGkJfreZoWrU"
      }
    },
    {
      "cell_type": "code",
      "source": [
        "import torch.utils as utils  # note that you can import anywhere in your \n",
        "                                      # code as long as you do it before you use\n",
        "                                      # the module\n",
        "\n",
        "batch_size=32  # numer of elements to retrieve at once from the dataset\n",
        "\n",
        "train_loader = utils.data.DataLoader(train_ds, # dataset to get the data from\n",
        "                                    batch_size=batch_size,\n",
        "                                    shuffle=True) \n",
        "# note that you can use multi-line statements in python\n",
        "\n",
        "test_loader = utils.data.DataLoader(test_ds,\n",
        "                                   batch_size=batch_size,\n",
        "                                   shuffle=True)\n"
      ],
      "metadata": {
        "id": "SIozuqhmZHuN"
      },
      "execution_count": null,
      "outputs": []
    },
    {
      "cell_type": "markdown",
      "source": [
        "So let's get a batch of images and labels from **train_loader** using its iterator:"
      ],
      "metadata": {
        "id": "E4dHtvMdxZhG"
      }
    },
    {
      "cell_type": "code",
      "source": [
        "print('The number of batches in the loader should be:')\n",
        "print(60000/32)\n",
        "\n",
        "print('and it actually is:')\n",
        "print(len(train_loader))  # the loader class allows using python's len() \n",
        "\n",
        "# get an image from the loader\n",
        "loader_iterator = iter(train_loader)\n",
        "images, labels = next(loader_iterator) \n",
        "\n",
        "print('The shape of the images batch Tensor is')\n",
        "print(images.shape)"
      ],
      "metadata": {
        "colab": {
          "base_uri": "https://localhost:8080/"
        },
        "id": "WdwPrnVIvnAK",
        "outputId": "7d28afe7-733c-4894-f18a-35332143cd13"
      },
      "execution_count": null,
      "outputs": [
        {
          "output_type": "stream",
          "name": "stdout",
          "text": [
            "The number of batches in the loader should be:\n",
            "1875.0\n",
            "and it actually is:\n",
            "1875\n",
            "The shape of the images batch Tensor is\n",
            "torch.Size([32, 1, 28, 28])\n"
          ]
        }
      ]
    },
    {
      "cell_type": "markdown",
      "source": [
        "You see that now, we have one additional dimension with size 32. This is the batch dimension.\n",
        "In Pytorch, it is a convension to always use the first dimension as a batch dimension. This allows to treat the rest of the dimensions as independent tensors on which we can perform the same operation in parallel. For example, you can multiply by each element in the batch independently."
      ],
      "metadata": {
        "id": "Glstpg0Hvnwv"
      }
    },
    {
      "cell_type": "markdown",
      "source": [
        "# Pytorch Neural Network Module\n",
        "We are now ready to work on our neural network.\n",
        "Pytorch provides a neural networks module called [torch.nn](https://pytorch.org/docs/stable/nn.html#containers) with classes for all layer types, activation functions and loss functions and more. \n",
        "\n",
        "For simplicity, we will start with a rudimentary, multi-layer, fully connected network (FCNN) that will only consist of two fully-connected layers. "
      ],
      "metadata": {
        "id": "7IJU0hvb1oaL"
      }
    },
    {
      "cell_type": "markdown",
      "source": [
        "## Feeding images to a FCNN - Flattening\n",
        "However, the input to an FCNN needs to be of a single dimension (apart from the batch of course). That is, if we request the **myTensor.shape** attribute of the input tensor we should see:\n",
        "> [batch_size, n_inputs]\n",
        "\n",
        "Where n_inputs is the number of inputs to our FCNN. \n",
        "\n",
        "Therefore, we need to change the shape of the input image, and collapse the H and W dimensions into a single one. We can do this with a Layer called [Flatten](https://pytorch.org/docs/stable/generated/torch.flatten.html).\n",
        "\n",
        "The figure below shows how a 2D array gets \"flattened\" by taking each row and piling it in a single-column array:\n",
        "\n",
        "<img src='https://drive.google.com/uc?export=view&id=1rTFNmQS48am_wpSsnFt9CVMwFSwierVx' alt='Image Tensor' width='200' height='200'>"
      ],
      "metadata": {
        "id": "e5tGW_ax07b2"
      }
    },
    {
      "cell_type": "code",
      "source": [
        "n_batches = 10\n",
        "C = 3\n",
        "H = 28\n",
        "W = 28\n",
        "total_pxs = C*H*W\n",
        "shape = (n_batches, C, H, W)  # shape is a python tuple\n",
        "\n",
        "rand_image = torch.rand(shape)  # rand returns a tensor of the given shape\n",
        "\n",
        "print(f'our random image is of shape: {rand_image.shape}')\n",
        "print(f'the flattened image should be of shape [{n_batches}, {total_pxs}]')"
      ],
      "metadata": {
        "colab": {
          "base_uri": "https://localhost:8080/"
        },
        "id": "TRT96sfl2YLA",
        "outputId": "92a674d2-6465-471d-f1b6-820e5cc83825"
      },
      "execution_count": null,
      "outputs": [
        {
          "output_type": "stream",
          "name": "stdout",
          "text": [
            "our random image is of shape: torch.Size([10, 3, 28, 28])\n",
            "the flattened image should be of shape [10, 2352]\n"
          ]
        }
      ]
    },
    {
      "cell_type": "code",
      "source": [
        "a_flatten_layer = torch.nn.Flatten(start_dim=1)\n",
        "flattened_image = a_flatten_layer(rand_image)\n",
        "print(f'our flattened image is of shape: {flattened_image.shape}')"
      ],
      "metadata": {
        "colab": {
          "base_uri": "https://localhost:8080/"
        },
        "id": "anSYai2i2wpE",
        "outputId": "9907f139-30fc-4bb1-edb0-2587e8c023f2"
      },
      "execution_count": null,
      "outputs": [
        {
          "output_type": "stream",
          "name": "stdout",
          "text": [
            "our flattened image is of shape: torch.Size([10, 2352])\n"
          ]
        }
      ]
    },
    {
      "cell_type": "markdown",
      "source": [
        "## Pytorch Linear Layers\n",
        "In Pytorch, fully-connected layers are called [Linear Layer](https://pytorch.org/docs/stable/generated/torch.nn.Linear.html#torch.nn.Linear) because the weighted summation we saw in class is mathematically a matrix product which is itself a linear operation. \n",
        "\n",
        "To visualize what is going on, consider the following illustrarion of a linear layer with N neurons that take M inputs:\n",
        "\n",
        "<img src='https://drive.google.com/uc?export=view&id=1FHKVJSAVARWTNmSsFsbP9cuRCgykesIi' alt='Image Tensor' width='250' height='250'>\n",
        "\n",
        "If the weights of the N neurons in the layer are aranged as a matrix with shape [N,M] and the inputs are aranged as a [N,1] array as well as the biases, then, the output can be computed by the linear equation illustrated below (the product is a matrix product):\n",
        "\n",
        "<img src='https://drive.google.com/uc?export=view&id=1AWUi_d09sh3F4_J9Epr6rUy0G8pGESu0' alt='Image Tensor' width=350>\n",
        "\n",
        "Hence, for every [Linear Layer](https://pytorch.org/docs/stable/generated/torch.nn.Linear.html#torch.nn.Linear), we need to define the number of inputs and the number of neurons. In our case, the number of inputs is the total number of pixels in our images:\n",
        "> n_inputs = 28 * 28\n",
        "\n",
        "The number of neurons in this first layer is something we can play around with, so let us leave it variable and give it a name... say N. \n",
        "\n",
        "For the second and last layer, the number of inputs is defined by the number of neurons of the previous layers. The number of neurons in this last layer must be equal to th number of classes. That is, 10 in this example."
      ],
      "metadata": {
        "id": "Po97yJWw09f7"
      }
    },
    {
      "cell_type": "code",
      "source": [
        "N = 15  # number of neurons in the layer. Also, the number of outputs of the layer\n",
        "a_linear_layer = torch.nn.Linear(total_pxs,N)\n",
        "output = a_linear_layer(flattened_image)\n",
        "\n",
        "print('The shape of the output tensor is:')\n",
        "print(output.shape)\n",
        "\n",
        "print('The shape of the weights tensor is [N, total_pxs]:')\n",
        "print(a_linear_layer.weight.shape)"
      ],
      "metadata": {
        "colab": {
          "base_uri": "https://localhost:8080/"
        },
        "id": "JfCPDRm34c-U",
        "outputId": "22bf1d40-0127-417d-9b7c-3fac841e86f9"
      },
      "execution_count": null,
      "outputs": [
        {
          "output_type": "stream",
          "name": "stdout",
          "text": [
            "The shape of the output tensor is:\n",
            "torch.Size([10, 15])\n",
            "The shape of the weights tensor is [N, total_pxs]:\n",
            "torch.Size([15, 2352])\n"
          ]
        }
      ]
    },
    {
      "cell_type": "markdown",
      "source": [
        "## Pytorch Sequential Layer Containers \n",
        "The easiest way to put these layers together is using a [Sequential](https://pytorch.org/docs/stable/generated/torch.nn.Sequential.html) container. This object will take an input and pass it through all the layers it contains. This container will be our neural network."
      ],
      "metadata": {
        "id": "oqbxgSbp08_t"
      }
    },
    {
      "cell_type": "code",
      "source": [
        "C = 1  # monochromatic images\n",
        "H = 28  # 28 pixels per side\n",
        "W = 28  # 28 pixels per side\n",
        "\n",
        "n_inputs = C*H*W  # total number of inputs is the total number of pixels \n",
        "N1 = 800  # number of neurons in layer 1, the input layer\n",
        "n_outputs = 10  # number of neurons at layer 2, the output layer\n",
        "\n",
        "# let's build our network using a Sequential container\n",
        "net = torch.nn.Sequential(\n",
        "            torch.nn.Flatten(start_dim=1),  # start at 2nd dim to preserve the batch dim\n",
        "            torch.nn.Linear(n_inputs, N1),  # n_inputs connecting to N1 neurons\n",
        "            torch.nn.Linear(N1, n_outputs), # N1 outputs from last layer are inputs to this layer with n_outputs neurons\n",
        "        )"
      ],
      "metadata": {
        "id": "vawqqRI0y-qK"
      },
      "execution_count": null,
      "outputs": []
    },
    {
      "cell_type": "markdown",
      "source": [
        "# Training\n",
        "Now that we have our FCNN, we need to train it. For this, we need to define an error or loss criterion. We will also need to define a training algorithm. As we saw in class, training is really an optimization algorithm that adjusts the FCNN weights to minimizes the error or loss. Finally, we will need to define a loop to consume the dataset, compute the loss, its gradient and call the optimizer to update the weights of our network \n",
        "\n"
      ],
      "metadata": {
        "id": "e6SfXUUdRW9t"
      }
    },
    {
      "cell_type": "markdown",
      "source": [
        "## Error or Loss criteria\n",
        "All of the frameworks provide a wide variety of loss functions to choose from. You can see a full list of Pytroch Loss functions [here](https://pytorch.org/docs/stable/nn.html#loss-functions). In class we only described the Mean Square Error (MSE) and the Cross Entropy losses. Since this is a classification example, let us use the [Cross Entropy](https://pytorch.org/docs/stable/generated/torch.nn.CrossEntropyLoss.html#torch.nn.CrossEntropyLoss) loss:"
      ],
      "metadata": {
        "id": "stvohBcE0v_a"
      }
    },
    {
      "cell_type": "code",
      "source": [
        "criterion = torch.nn.CrossEntropyLoss()"
      ],
      "metadata": {
        "id": "qW2-wQHOSwfe"
      },
      "execution_count": null,
      "outputs": []
    },
    {
      "cell_type": "markdown",
      "source": [
        "## Pytorch Stochastic Gradient Descent \n",
        "Again, several optimization methods are available in most frameworks. Pytorch encapsulates them in the [optim submodule](https://pytorch.org/docs/stable/optim.html)\n",
        "\n",
        "Let us use the [Stochastic Gradient Descent](https://pytorch.org/docs/stable/generated/torch.optim.SGD.html) submodule since this is what we saw in class with some detail. \n",
        "All we need is to define what variables need to be optimized and a learning rate. \n",
        "In our example, we want to optimize our FCNN weights that are an attribute of our net sequential object defined above. The attribute is called parameters:"
      ],
      "metadata": {
        "id": "p6RsT-MDW_4W"
      }
    },
    {
      "cell_type": "code",
      "source": [
        "optimizer = optim.SGD(net.parameters(), lr=0.001)"
      ],
      "metadata": {
        "id": "-QE_MHTIW-3c"
      },
      "execution_count": null,
      "outputs": []
    },
    {
      "cell_type": "markdown",
      "source": [
        "## The Training Loop\n",
        "So we are ready to train our network.\n",
        "We will need to loop over the batches from the train loader to get the outputs, compute the loss and the gradients and then update the weights.\n",
        "Yet, before going there, let's briefly describe python for loops.\n"
      ],
      "metadata": {
        "id": "flSpio-GZMnR"
      }
    },
    {
      "cell_type": "markdown",
      "source": [
        "## Python for loops\n",
        "A common way to do loops in python is [for loops](https://www.w3schools.com/python/python_for_loops.asp)\n",
        "Since the baseline Python only knows about Lists, Tuples and a few other sequence types, you can imagine that  [for loops](https://www.w3schools.com/python/python_for_loops.asp)they let you go through the elements of a List or Tuple. \n",
        "The basic syntax is:\n",
        "> for element in myListOrTuple:\n",
        "\n",
        "where x is an element in the list or tupple myListOrTuple and the \":\" indicates what we will do in the loop with x. \n",
        "\n",
        "A great thing about Python Loops, is that is the element is itself a sequence (another list or tuple) then, you can unpack the elements:\n",
        "> for elment1,...,elementN in myListOfLists:\n",
        "\n",
        "If all you need to do is loop a number of times, you need to use the [range(x) construct](https://www.w3schools.com/python/ref_func_range.asp). It will create a list of numbers between zero and x:\n",
        "> for number in range(x):\n",
        "\n",
        "\n",
        "Moreover, you can readily get an index for the loop iteration step along with the elements by just using the [enumerate construct](https://www.w3schools.com/python/ref_func_enumerate.asp). But this is better explained in the example so let's go ahead with it.\n",
        "\n"
      ],
      "metadata": {
        "id": "QzeUTOwtKv0N"
      }
    },
    {
      "cell_type": "code",
      "source": [
        "n_epochs = 2  # number of epochs we want to train\n",
        "for epoch in range(n_epochs):  # range(int_x) converts an integer into a list from 0 to int_x\n",
        "    for batch_idx, data in enumerate(train_loader):  # consume the dataset, one batch at a time\n",
        "        # get the inputs; data is a tuple of (inputs, labels)\n",
        "        inputs, labels = data\n",
        "\n",
        "        # zero the parameter gradients to get the gradient per batch\n",
        "        optimizer.zero_grad() \n",
        "\n",
        "        # do a forward pass\n",
        "        outputs = net(inputs)\n",
        "\n",
        "        # compute the loss\n",
        "        loss = criterion(outputs, labels)\n",
        "\n",
        "        # do the backpropagation\n",
        "        loss.backward()  # backward is an attribute of every tensor.\n",
        "                         # Thus, you can compute the gradient on any tensor that\n",
        "                         # that results from any differentiable operation. \n",
        "\n",
        "        # Let the parameters with the optimizer\n",
        "        optimizer.step()\n",
        "\n",
        "        # print statistics\n",
        "        if batch_idx % 100 == 0:    # print every 100 mini-batches\n",
        "            print(f'[{epoch}, {batch_idx:5d}] loss: {loss.item():.3f}')\n",
        "\n",
        "print('Finished Training')"
      ],
      "metadata": {
        "colab": {
          "base_uri": "https://localhost:8080/"
        },
        "id": "6vike-JlfjMZ",
        "outputId": "e1f4e3ca-7e63-424c-95de-8b1c7508fd86"
      },
      "execution_count": null,
      "outputs": [
        {
          "output_type": "stream",
          "name": "stdout",
          "text": [
            "[0,     0] loss: 2.339\n",
            "[0,   100] loss: 2.262\n",
            "[0,   200] loss: 2.177\n",
            "[0,   300] loss: 2.123\n",
            "[0,   400] loss: 2.071\n",
            "[0,   500] loss: 1.971\n",
            "[0,   600] loss: 1.927\n",
            "[0,   700] loss: 1.900\n",
            "[0,   800] loss: 1.880\n",
            "[0,   900] loss: 1.800\n",
            "[0,  1000] loss: 1.829\n",
            "[0,  1100] loss: 1.605\n",
            "[0,  1200] loss: 1.502\n",
            "[0,  1300] loss: 1.551\n",
            "[0,  1400] loss: 1.473\n",
            "[0,  1500] loss: 1.364\n",
            "[0,  1600] loss: 1.390\n",
            "[0,  1700] loss: 1.462\n",
            "[0,  1800] loss: 1.329\n",
            "[1,     0] loss: 1.452\n",
            "[1,   100] loss: 1.295\n",
            "[1,   200] loss: 1.266\n",
            "[1,   300] loss: 1.020\n",
            "[1,   400] loss: 1.239\n",
            "[1,   500] loss: 1.064\n",
            "[1,   600] loss: 1.040\n",
            "[1,   700] loss: 1.214\n",
            "[1,   800] loss: 0.952\n",
            "[1,   900] loss: 1.007\n",
            "[1,  1000] loss: 1.186\n",
            "[1,  1100] loss: 0.813\n",
            "[1,  1200] loss: 0.804\n",
            "[1,  1300] loss: 0.855\n",
            "[1,  1400] loss: 1.126\n",
            "[1,  1500] loss: 0.693\n",
            "[1,  1600] loss: 0.893\n",
            "[1,  1700] loss: 0.808\n",
            "[1,  1800] loss: 1.048\n",
            "Finished Training\n"
          ]
        }
      ]
    },
    {
      "cell_type": "markdown",
      "source": [
        "# Testing the Performance of our Network\n",
        "So we have trained our network. But what does the loss actually mean? Is the value we got any good? How often will the network predict the digits correctly?\n",
        "\n",
        "To know the actual performance of our network, we need to use it with our test set and see how many times we got the digit right. \n",
        "\n",
        "That sounds straightforward. But before we do it you need to be aware of the fact that in Pytorch, there is a recording process going on in the background all the time. This is part of the [automatic differentiation](https://pytorch.org/tutorials/beginner/basics/autogradqs_tutorial.html) algorithm that requires a record of the operations. So, whenever you use your dataset, all the operations you do on it will be recorded. This takes resources. If you don't really need the gradients, just turn it off as you can see in the code below"
      ],
      "metadata": {
        "id": "TnFQjPhVjBtk"
      }
    },
    {
      "cell_type": "code",
      "source": [
        "n_samples = len(test_ds)\n",
        "n_batches = len(test_loader)\n",
        "test_loss = 0\n",
        "n_hits = 0\n",
        "\n",
        "with torch.no_grad():  # disable the AutoDiff record. Mind the indentation!\n",
        "  for inputs,labels in test_loader: # python unpacks each tuple into inputs and labels\n",
        "    # do a forward pass on this batch to get the outputs\n",
        "    net_output = net(inputs)  # output is 10 values. The largest indicates the\n",
        "                              # predicted category\n",
        "    \n",
        "    # To compute the accuracy, need to compute how many categories we got right\n",
        "    # first, get the maximum for each prediction\n",
        "    predicted_digits = torch.argmax(net_output, dim=1)  # dim=1 to do per image\n",
        "\n",
        "    # compare the prediction with the labels\n",
        "    current_hits = predicted_digits == labels  # == results in 0's or 1's \n",
        "\n",
        "    # add all the 1's because they mean we got those right \n",
        "    current_hits = torch.sum(current_hits)\n",
        "\n",
        "    # accumulate our hits with those of the other batches\n",
        "    n_hits = n_hits + current_hits\n",
        "\n",
        "# normalize the accuracy \n",
        "Accuracy = n_hits / n_samples\n",
        "print(f'Accuracy: {(100*Accuracy):.2f}%')\n",
        "\n"
      ],
      "metadata": {
        "id": "IvlTQxSZjBIe",
        "colab": {
          "base_uri": "https://localhost:8080/"
        },
        "outputId": "d2038888-b519-4e7b-ab15-742cbfe1c8ca"
      },
      "execution_count": null,
      "outputs": [
        {
          "output_type": "stream",
          "name": "stdout",
          "text": [
            "Accuracy: 83.81%\n"
          ]
        }
      ]
    }
  ]
}