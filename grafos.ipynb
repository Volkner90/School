{
 "cells": [
  {
   "cell_type": "code",
   "execution_count": 2,
   "metadata": {},
   "outputs": [],
   "source": [
    "import networkx as nx\n",
    "import matplotlib.pyplot as plt\n",
    "import random\n",
    "\n",
    "def createRandomGraph(size, edgeProb, seed=321):\n",
    "    G = nx.Graph()\n",
    "    G.add_nodes_from(list(range(size)))\n",
    "    if seed:\n",
    "        random.seed(seed)\n",
    "    \n",
    "    graph=[[False]*size for x in range(size)]\n",
    "    for i in range(size):\n",
    "        for j in range(i, size):\n",
    "            if i == j or random.randint(0,100) > edgeProb:\n",
    "                continue\n",
    "\n",
    "            graph[i][j]=True\n",
    "            graph[j][i]=True\n",
    "            i1, i2 = [i,j] if i < j else [j,i]\n",
    "            G.add_edge(i1,i2)\n",
    "    return graph, G"
   ]
  },
  {
   "cell_type": "code",
   "execution_count": 3,
   "metadata": {},
   "outputs": [],
   "source": [
    "def BFS (graph, start, end):\n",
    "    stack = [start]\n",
    "    stackE=[]\n",
    "    size = len(graph)\n",
    "    visited = [False]*size\n",
    "    path=[]\n",
    "    anim=[]\n",
    "    while stack:\n",
    "        node = stack.pop(0) \n",
    "\n",
    "        if node == end:\n",
    "            path.append(node)\n",
    "            anim.append([node])\n",
    "            return True, path, anim\n",
    "        if not visited[node]:\n",
    "            visited[node]=True\n",
    "            anim.append([node])\n",
    "            path.append(node)\n",
    "            for i in range(size):\n",
    "                if graph[node][i] and not visited[i]: \n",
    "                    stack.append(i)\n",
    "                    i1,i2 = [i, node] if i<node else [node,i]\n",
    "                    stackE.append([i1,i2])\n",
    "        if stackE:\n",
    "            e= stackE.pop(0)\n",
    "            anim.append(e)\n",
    "    return False,path, anim"
   ]
  },
  {
   "cell_type": "code",
   "execution_count": 4,
   "metadata": {},
   "outputs": [],
   "source": [
    "def getNum(letra):\n",
    "    return ord(letra)-ord('A')\n",
    "\n",
    "def getLetra(num):\n",
    "    return chr(num+ord('A'))"
   ]
  },
  {
   "cell_type": "code",
   "execution_count": 5,
   "metadata": {},
   "outputs": [
    {
     "name": "stdout",
     "output_type": "stream",
     "text": [
      "([[False, False, False, False, False, False], [False, False, False, False, False, False], [False, False, False, False, False, False], [False, False, False, False, False, False], [False, False, False, False, False, False], [False, False, False, False, False, False]], <networkx.classes.graph.Graph object at 0x00000210A5F86670>)\n",
      "(False, [0, 1], [[0], [0, 1], [1]])\n"
     ]
    }
   ],
   "source": [
    "#Input\n",
    "#size=input()\n",
    "#aristas=input()\n",
    "grafo=list(map(str,input().split()))\n",
    "grafo1=createRandomGraph(6,6)\n",
    "print(grafo1)\n",
    "\n",
    "numeros= list(map(getNum,grafo))\n",
    "\n",
    "busquedaAncha=BFS(grafo1,numeros[0],numeros[1])\n",
    "print(busquedaAncha)\n",
    "#letras= list(map(getLetra,busquedaAncha))\n",
    "#print(letras)\n"
   ]
  },
  {
   "cell_type": "code",
   "execution_count": 6,
   "metadata": {},
   "outputs": [],
   "source": [
    "#Output\n",
    "#respuesta, path,anim = BFS(numeros,1,3)\n",
    "\n",
    "#grafoSalida= getLetra()\n",
    "#print(grafoSalida)\n"
   ]
  }
 ],
 "metadata": {
  "kernelspec": {
   "display_name": "Python 3.8.8 ('base')",
   "language": "python",
   "name": "python3"
  },
  "language_info": {
   "codemirror_mode": {
    "name": "ipython",
    "version": 3
   },
   "file_extension": ".py",
   "mimetype": "text/x-python",
   "name": "python",
   "nbconvert_exporter": "python",
   "pygments_lexer": "ipython3",
   "version": "3.8.8"
  },
  "orig_nbformat": 4,
  "vscode": {
   "interpreter": {
    "hash": "7dda3ce0bb2a829b0df8e7b7a1f8bfa9ff3e07159579aac066630d4a5097621d"
   }
  }
 },
 "nbformat": 4,
 "nbformat_minor": 2
}
