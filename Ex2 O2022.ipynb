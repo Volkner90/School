{
 "cells": [
  {
   "cell_type": "markdown",
   "metadata": {},
   "source": [
    "# Analisis y Diseño de Algoritmos\n",
    "## Segundo Examen Parcial "
   ]
  },
  {
   "cell_type": "markdown",
   "metadata": {},
   "source": [
    "\n",
    "- Nombre:  **Jonathan Valencia**"
   ]
  },
  {
   "cell_type": "markdown",
   "metadata": {},
   "source": [
    "## Parte 1:  Para los ejercicios 1,2 y 3 se resolverá este problema: \n",
    "\n",
    "Una empresa recibe pagos de sus trabajadores para que sean distribuidos de forma equitativa como donativos para 2 ONGs. Para dar transparencia la empresa desea distribuir las cantidades donadas (sin partir) en 2 cheques con la mínima diferencia posible.  De modo que los trabajadores pueden ver donde están las cantidades donadas. \n",
    "\n",
    "Se te solicita crear una función que recibe un arreglo de números enteros (pagos) y devuelva un arreglo con las cantidades donadas en cada cheque.\n",
    "\n",
    "Observe que este mismo problema podría ser aplicado para balanceo de carga (en procesamiento o en memoria).\n",
    "\n",
    "Ejemplo: \n",
    "\n",
    "        #entrada:\n",
    "                [100, 200, 300, 400, 500, 600, 700, 800, 900, 1000] // pagos  (NO NECESARIAMENTE LA ENTRADA ESTÁ ORDENADA)\n",
    "\n",
    "        #respuesta \n",
    "                [100, 2800, 2700, [1,1,1,1,1,1,1,2,2,2]]  \n",
    "                // diferencia, suma cheque1, suma cheque2, arreglo que indica a cual cheque pertence del arreglo original. \n",
    "\n",
    "        #explicación \n",
    "                cheque1 = [100,200,300,400,500,600,700])   // total = 2800\n",
    "                cheque2 = [800,900,1000]                   // total = 2700      \n",
    "        \n",
    "        #diferencia 100 absoluta"
   ]
  },
  {
   "cell_type": "markdown",
   "metadata": {},
   "source": [
    "**Ejercicio 1: Algoritmo Voraz** (25 puntos) \n",
    "\n",
    "Proporciona una solución utilizando un algoritmo voraz que se basa en ordenar los pagos y va seleccionando en un grupo un mayor y en el otro todos los menores hasta igualar o superar el total del cheque1. Así se repite el primer grupo toma otro mayor y el segundo trata de completar con elementos menores.  \n",
    "\n",
    "        pagos = [100, 1000,200, 300,900, 400, 500,800, 600, 700]\n",
    "\n",
    "        #paso 1:\n",
    "        cheque1 =[1000]\n",
    "        cheque2 =[100,200,300, 400]\n",
    "        #paso 2:\n",
    "        cheque1 =[1000,900],\n",
    "        cheque2 =[100,200,300, 400, 500, 600]\n",
    "        #paso 3:\n",
    "        cheque1 =[1000,900,800],  \n",
    "        cheque2 =[100,200,300, 400, 500, 600, 700]\n",
    "        #salida\n",
    "        [100, 2800, 2700, [2,1,2,2,1,2,2,1,2,2]] \n",
    "\n",
    "Casi nunca llegará al optimo, aquí solo se pide que se resuelva el problema siguiendo la estrategia de selección indicada."
   ]
  },
  {
   "cell_type": "code",
   "execution_count": 64,
   "metadata": {},
   "outputs": [],
   "source": [
    "def distribuirPagosVoraz(pagos): \n",
    "    orden=sorted(pagos)\n",
    "    cheque1=[]\n",
    "    cheque2=[]\n",
    "    array=[]\n",
    "    cheque1.append(orden.pop())\n",
    "    array.append(1)\n",
    "    cheque2.append(orden.pop(0))\n",
    "    array.append(2)\n",
    "    for i in range(len(orden)):\n",
    "        if sum(cheque1)<=sum(cheque2):\n",
    "            cheque1.append(orden.pop())\n",
    "            array.append(1)\n",
    "        else:\n",
    "            cheque2.append(orden.pop(0))\n",
    "            array.append(2)\n",
    "    return abs(sum(cheque1)-sum(cheque2)),sum(cheque1), sum(cheque2), array\n",
    "        "
   ]
  },
  {
   "cell_type": "code",
   "execution_count": 65,
   "metadata": {},
   "outputs": [
    {
     "name": "stdout",
     "output_type": "stream",
     "text": [
      "(26, 1740, 1714, [1, 2, 2, 2, 1])\n",
      "(697, 2691, 3388, [1, 2, 2, 2, 1, 2, 2, 1, 2, 2])\n",
      "(249, 3607, 3358, [1, 2, 2, 2, 1, 2, 2, 1, 2, 1])\n",
      "(786, 4620, 5406, [1, 2, 2, 2, 2, 1, 2, 2, 1, 2, 1, 2, 1, 2, 2])\n",
      "(373, 7097, 6724, [1, 2, 2, 2, 1, 2, 2, 1, 2, 2, 1, 2, 2, 1, 2, 1, 2, 1, 2, 1])\n"
     ]
    }
   ],
   "source": [
    "### prueba del ejercicio 1\n",
    "\n",
    "test_cases = [\n",
    "        [487, 476, 776, 751, 964],\n",
    "        [384, 391, 723, 338, 701, 970, 637, 998, 307, 630],\n",
    "        [593, 364, 907, 337, 865, 736, 931, 888, 463, 881],\n",
    "        [981, 934, 984, 723, 321, 886, 310, 600, 835, 824, 510, 396, 335, 622, 765],\n",
    "        [513,906,808,530,867,838,358,833,378,904,830,943,303,650,936,780,734,329,870,511]\n",
    "    ]\n",
    "\n",
    "for i in range(len(test_cases)):\n",
    "    print(distribuirPagosVoraz(test_cases[i]))\n",
    "\n",
    "# RESPUESTA ESPERADA:\n",
    "#diferencia, suma cheque1, suma cheque2, arreglo que indica a cual cheque pertence el pago del arreglo original. \n",
    "#[26, 1740, 1714, [2, 2, 1, 2, 1]\n",
    "#[697, 2691, 3388, [2, 2, 1, 2, 2, 1, 2, 1, 2, 2]]\n",
    "#[249, 3607, 3358, [2, 2, 1, 2, 2, 2, 1, 1, 2, 1]]\n",
    "#[786, 4620, 5406, [1, 1, 1, 2, 2, 1, 2, 2, 1, 2, 2, 2, 2, 2, 2]]\n",
    "#[373, 7097, 6724, [2, 1, 2, 2, 1, 1, 2, 1, 2, 1, 2, 1, 2, 2, 1, 2, 2, 2, 1, 2]]"
   ]
  },
  {
   "cell_type": "markdown",
   "metadata": {},
   "source": [
    "**Ejercicio2:Programación dinámica** (30 puntos) \n",
    "\n",
    "Realiza un algoritmo usando programación dinámica que calcule una solución optima para una cantidad de pagos dada. y explica la estrategia de llenado de la tabla y por qué. \n",
    "\n",
    "Tip: al estilo del problema de la mochila, crear una tabla con n+1 filas (para cada pago o cada item) y SUM//2+1 columnas  ( suma de todos los pagos / 2  es como la W del peso de la mochila).  Pero en lugar de guardar el valor del objeto se guarda True o False, que indica sí se puede llegar a ese valor (de la columna) combinando los resultados de las soluciones anterior (renglones anteriores) con el actual. \n",
    "\n",
    "Observa el ejemplo y el ejercicio se trata de encontrar la forma de llenar la tabla. \n",
    "\n",
    "Ejemplo:  3, 5, 2, 4 = 14//2 = 7 ( 7 columnas)  \n",
    "\n",
    "```text\n",
    "    0   1   2   3   4   5   6   7   \n",
    "-   T   F   F   F   F   F   F   F   \n",
    "3   T   F   F   T   F   F   F   F   \n",
    "5   T   F   F   T   F   T   F   F   \n",
    "2   T   F   T   T   F   T   F   T   \n",
    "4   T   F   T   T   T   T   T   T   \n",
    "```\n",
    "\n",
    "Resultado: Nos quedamos con **el último valor True del último renglón** (el que tiene la minima diferencia) \n",
    "\n",
    "- columna  es el total del cheque 1. \n",
    "- SUM-columna es el total del cheque 2. \n",
    "- diferencia entre cheque2 y cheque1 = (sum-columna) - columna = sum - 2*columna\n",
    "\n",
    "En este ejemplo sum = 14\n",
    "\n",
    "```text\n",
    "    0   1   2   3   4   5   6   7 \n",
    "4   T   F   T   T   T   T   T   T\n",
    "    14      10  8   6   4   2   0  \n",
    "\n",
    "\n",
    " (14-0)-0 = 14\n",
    " (14-2)-2 = 10\n",
    " (14-3)-3 = 8\n",
    " (14-4)-4 = 6\n",
    " (14-5)-5 = 4\n",
    " (14-6)-6 = 2\n",
    " (14-7)-7 = 0  Seleccionado como la mejor solución. \n",
    "\n",
    "[2, 5] (siguiendo la tabla con las letras T al estilo de las monedas)\n",
    "[3, 4] (las que no estan en el primer cheque)\n",
    "```\n"
   ]
  },
  {
   "cell_type": "code",
   "execution_count": null,
   "metadata": {},
   "outputs": [],
   "source": [
    "def distribuirPagosProgramaciónDinámica(pagos):\n",
    "    pass\n",
    "\n",
    "#Ver tablita que hize\n",
    "#columna 0 siempre es True, para las demas; si arriba existe un true entonces se acarrea abajo, si no, se toma el numero de la columna y se le resta la fila\n",
    "#el resultado se busca en la misma fila, si hay un ture entonces tu poscion es ture\n",
    "#si sale numero negativo en la resta =False, todos son false menos el primero al final. True mas a la derecha del ultimo renglon\n",
    "#cuando brincas algun pago en la matriz por que no haya false arriba, se agregar al cheque2, se completa cheque 2 con lo que esta afuera"
   ]
  },
  {
   "cell_type": "markdown",
   "metadata": {},
   "source": [
    "### Explica brevemente como llenas la matriz y por qué? (como ayuda esto a resolver el problema)\n",
    "## respuesta aquí: "
   ]
  },
  {
   "cell_type": "code",
   "execution_count": null,
   "metadata": {},
   "outputs": [],
   "source": [
    "### prueba del ejercicio 2\n",
    "for i in range(len(test_cases)):\n",
    "    print(distribuirPagosProgramaciónDinámica(test_cases[i]))\n",
    "\n",
    "\n",
    "# RESPUESTA ESPERADA:\n",
    "#[24, 1715, 1739, [2, 2, 2, 1, 1]]\n",
    "#[1, 3039, 3040, [2, 2, 1, 1, 1, 1, 2, 2, 1, 2]]\n",
    "#[3, 3481, 3484, [1, 1, 1, 2, 2, 1, 2, 2, 2, 1]]\n",
    "#[0, 5013, 5013, [2, 1, 1, 1, 1, 2, 1, 2, 1, 2, 1, 1, 2, 2, 2]]\n",
    "#[1, 6910, 6911, [1, 1, 2, 1, 1, 1, 2, 1, 2, 2, 1, 1, 2, 1, 2, 2, 2, 2, 2, 2]]\n"
   ]
  },
  {
   "cell_type": "markdown",
   "metadata": {},
   "source": [
    "**Ejercicio 3: backtracking**  (25 puntos).  \n",
    "\n",
    "Realizar un algoritmo usando backtracking que calcule todas las soluciones optimas posibles para una cantidad de pagos dada. \n",
    "No ejecutar el algoritmo de programación dinámica. \n",
    "\n",
    "Para este ejercicio solo se pide  mostrar diferencia y cuantas soluciones existen. \n"
   ]
  },
  {
   "cell_type": "code",
   "execution_count": 54,
   "metadata": {},
   "outputs": [],
   "source": [
    "bestTime =1000000\n",
    "bestSolution=[]\n",
    "cont=0\n",
    "\n",
    "def processBackTracking(start, graph, indexSolution, solution, visited, currentTime):\n",
    "    global bestTime, bestSolution, cont\n",
    "    \n",
    "    cont+=1\n",
    "    size= len(graph)\n",
    "    \n",
    "    if indexSolution==len(solution):\n",
    "        #time = graph[start][solution[0]]+ graph[solution[-1]][start]\n",
    "        time = currentTime+ graph[solution[-1]][start]\n",
    "        #for i in range(len(solution)-1):\n",
    "            #time+=graph[solution[i]][solution[i+1]]\n",
    "        \n",
    "        if time < bestTime:\n",
    "            bestTime = time\n",
    "            bestSolution = solution\n",
    "            print(\"mejor solución encontrada\", bestTime)\n",
    "    else:\n",
    "        for i in range(size):\n",
    "            if visited[i]:\n",
    "                continue\n",
    "            if bestTime< currentTime+graph[solution[indexSolution-1]][i]:\n",
    "                continue\n",
    "            newSolution = solution.copy()\n",
    "            newSolution[indexSolution]=i\n",
    "            newVisited = visited.copy()\n",
    "            newVisited[i]=True\n",
    "            processBackTracking(start,graph,indexSolution+1,newSolution,newVisited,currentTime+graph[solution[indexSolution-1]][i])\n",
    "\n",
    "def distribuirPagosBacktracking(pagos):\n",
    "    global bestSolution, bestTime, cont\n",
    "    bestTime =1000000\n",
    "    bestSolution=[]\n",
    "    cont=0\n",
    "    size = len(pagos)\n",
    "    for i in range(size):\n",
    "        solution = [0]*size\n",
    "        visited = [False]*size\n",
    "        solution[0]=i\n",
    "        visited[i]=True\n",
    "        processBackTracking(i,pagos,1,solution,visited,0)\n",
    "    return bestTime, bestSolution, cont\n",
    "\n",
    "\n",
    "### prueba del ejercicio 3\n",
    "    #print(\"mejor solución\", start, *bestSolution,start)\n",
    "    #print(\"mejor tiempo\", bestTime)\n",
    "    #print(\"# de llamadas recursivas\", cont)            "
   ]
  },
  {
   "cell_type": "code",
   "execution_count": 55,
   "metadata": {},
   "outputs": [
    {
     "ename": "TypeError",
     "evalue": "'int' object is not subscriptable",
     "output_type": "error",
     "traceback": [
      "\u001b[0;31m---------------------------------------------------------------------------\u001b[0m",
      "\u001b[0;31mTypeError\u001b[0m                                 Traceback (most recent call last)",
      "\u001b[1;32m/Users/jonathanvalencia/School/Ex2 O2022.ipynb Cell 13\u001b[0m in \u001b[0;36m<cell line: 16>\u001b[0;34m()\u001b[0m\n\u001b[1;32m      <a href='vscode-notebook-cell:/Users/jonathanvalencia/School/Ex2%20O2022.ipynb#X15sZmlsZQ%3D%3D?line=2'>3</a>\u001b[0m test_cases \u001b[39m=\u001b[39m [\n\u001b[1;32m      <a href='vscode-notebook-cell:/Users/jonathanvalencia/School/Ex2%20O2022.ipynb#X15sZmlsZQ%3D%3D?line=3'>4</a>\u001b[0m         [\u001b[39m487\u001b[39m, \u001b[39m476\u001b[39m, \u001b[39m776\u001b[39m, \u001b[39m751\u001b[39m, \u001b[39m964\u001b[39m],\n\u001b[1;32m      <a href='vscode-notebook-cell:/Users/jonathanvalencia/School/Ex2%20O2022.ipynb#X15sZmlsZQ%3D%3D?line=4'>5</a>\u001b[0m         [\u001b[39m384\u001b[39m, \u001b[39m391\u001b[39m, \u001b[39m723\u001b[39m, \u001b[39m338\u001b[39m, \u001b[39m701\u001b[39m, \u001b[39m970\u001b[39m, \u001b[39m637\u001b[39m, \u001b[39m998\u001b[39m, \u001b[39m307\u001b[39m, \u001b[39m630\u001b[39m],\n\u001b[0;32m   (...)\u001b[0m\n\u001b[1;32m     <a href='vscode-notebook-cell:/Users/jonathanvalencia/School/Ex2%20O2022.ipynb#X15sZmlsZQ%3D%3D?line=12'>13</a>\u001b[0m         [\u001b[39m9296\u001b[39m,\u001b[39m5159\u001b[39m,\u001b[39m8457\u001b[39m,\u001b[39m7555\u001b[39m,\u001b[39m8510\u001b[39m,\u001b[39m7643\u001b[39m,\u001b[39m8319\u001b[39m,\u001b[39m6694\u001b[39m,\u001b[39m5163\u001b[39m,\u001b[39m6068\u001b[39m,\u001b[39m6727\u001b[39m,\u001b[39m5673\u001b[39m,\u001b[39m7604\u001b[39m,\u001b[39m8412\u001b[39m,\u001b[39m9507\u001b[39m,\u001b[39m9989\u001b[39m,\u001b[39m6994\u001b[39m,\u001b[39m7892\u001b[39m,\u001b[39m9851\u001b[39m,\u001b[39m7774\u001b[39m]\n\u001b[1;32m     <a href='vscode-notebook-cell:/Users/jonathanvalencia/School/Ex2%20O2022.ipynb#X15sZmlsZQ%3D%3D?line=13'>14</a>\u001b[0m     ]\n\u001b[1;32m     <a href='vscode-notebook-cell:/Users/jonathanvalencia/School/Ex2%20O2022.ipynb#X15sZmlsZQ%3D%3D?line=15'>16</a>\u001b[0m \u001b[39mfor\u001b[39;00m i \u001b[39min\u001b[39;00m \u001b[39mrange\u001b[39m(\u001b[39mlen\u001b[39m(test_cases)):\n\u001b[0;32m---> <a href='vscode-notebook-cell:/Users/jonathanvalencia/School/Ex2%20O2022.ipynb#X15sZmlsZQ%3D%3D?line=16'>17</a>\u001b[0m     \u001b[39mprint\u001b[39m(distribuirPagosBacktracking(test_cases[i]))\n",
      "\u001b[1;32m/Users/jonathanvalencia/School/Ex2 O2022.ipynb Cell 13\u001b[0m in \u001b[0;36mdistribuirPagosBacktracking\u001b[0;34m(pagos)\u001b[0m\n\u001b[1;32m     <a href='vscode-notebook-cell:/Users/jonathanvalencia/School/Ex2%20O2022.ipynb#X15sZmlsZQ%3D%3D?line=41'>42</a>\u001b[0m     solution[\u001b[39m0\u001b[39m]\u001b[39m=\u001b[39mi\n\u001b[1;32m     <a href='vscode-notebook-cell:/Users/jonathanvalencia/School/Ex2%20O2022.ipynb#X15sZmlsZQ%3D%3D?line=42'>43</a>\u001b[0m     visited[i]\u001b[39m=\u001b[39m\u001b[39mTrue\u001b[39;00m\n\u001b[0;32m---> <a href='vscode-notebook-cell:/Users/jonathanvalencia/School/Ex2%20O2022.ipynb#X15sZmlsZQ%3D%3D?line=43'>44</a>\u001b[0m     processBackTracking(i,pagos,\u001b[39m1\u001b[39;49m,solution,visited,\u001b[39m0\u001b[39;49m)\n\u001b[1;32m     <a href='vscode-notebook-cell:/Users/jonathanvalencia/School/Ex2%20O2022.ipynb#X15sZmlsZQ%3D%3D?line=44'>45</a>\u001b[0m \u001b[39mreturn\u001b[39;00m bestTime, bestSolution, cont\n",
      "\u001b[1;32m/Users/jonathanvalencia/School/Ex2 O2022.ipynb Cell 13\u001b[0m in \u001b[0;36mprocessBackTracking\u001b[0;34m(start, graph, indexSolution, solution, visited, currentTime)\u001b[0m\n\u001b[1;32m     <a href='vscode-notebook-cell:/Users/jonathanvalencia/School/Ex2%20O2022.ipynb#X15sZmlsZQ%3D%3D?line=22'>23</a>\u001b[0m \u001b[39mif\u001b[39;00m visited[i]:\n\u001b[1;32m     <a href='vscode-notebook-cell:/Users/jonathanvalencia/School/Ex2%20O2022.ipynb#X15sZmlsZQ%3D%3D?line=23'>24</a>\u001b[0m     \u001b[39mcontinue\u001b[39;00m\n\u001b[0;32m---> <a href='vscode-notebook-cell:/Users/jonathanvalencia/School/Ex2%20O2022.ipynb#X15sZmlsZQ%3D%3D?line=24'>25</a>\u001b[0m \u001b[39mif\u001b[39;00m bestTime\u001b[39m<\u001b[39m currentTime\u001b[39m+\u001b[39mgraph[solution[indexSolution\u001b[39m-\u001b[39;49m\u001b[39m1\u001b[39;49m]][i]:\n\u001b[1;32m     <a href='vscode-notebook-cell:/Users/jonathanvalencia/School/Ex2%20O2022.ipynb#X15sZmlsZQ%3D%3D?line=25'>26</a>\u001b[0m     \u001b[39mcontinue\u001b[39;00m\n\u001b[1;32m     <a href='vscode-notebook-cell:/Users/jonathanvalencia/School/Ex2%20O2022.ipynb#X15sZmlsZQ%3D%3D?line=26'>27</a>\u001b[0m newSolution \u001b[39m=\u001b[39m solution\u001b[39m.\u001b[39mcopy()\n",
      "\u001b[0;31mTypeError\u001b[0m: 'int' object is not subscriptable"
     ]
    }
   ],
   "source": [
    "### prueba del ejercicio 1\n",
    "\n",
    "test_cases = [\n",
    "        [487, 476, 776, 751, 964],\n",
    "        [384, 391, 723, 338, 701, 970, 637, 998, 307, 630],\n",
    "        [593, 364, 907, 337, 865, 736, 931, 888, 463, 881],\n",
    "        [981, 934, 984, 723, 321, 886, 310, 600, 835, 824, 510, 396, 335, 622, 765],\n",
    "        [513,906,808,530,867,838,358,833,378,904,830,943,303,650,936,780,734,329,870,511],\n",
    "        [6264,3819,1476,6509,4658,9295,9272,6429,2520,9400,6282,1514,1972,796,6324],\n",
    "        [9027,7124,3138,9897,1939,4346,9809,6298,4507,6129,1149,518,8186,1216,7487,5177,8843,8944,4205,8844],\n",
    "        [8187,3963,1329,9901,4302,4025,3130,6633,1324,1286,1132,6315,2449,4434,7234,6048,4057,6382,602,9059],\n",
    "        [7829,8801,8302,8101,2942,1338,4730,1098,9049,5472,531,7882,3510,5359,1470,8207,4712,4379,7629,3232],\n",
    "        [9296,5159,8457,7555,8510,7643,8319,6694,5163,6068,6727,5673,7604,8412,9507,9989,6994,7892,9851,7774]\n",
    "    ]\n",
    "\n",
    "for i in range(len(test_cases)):\n",
    "    print(distribuirPagosBacktracking(test_cases[i]))\n",
    "\n",
    "# RESPUESTA ESPERADA: (en al rededor de 13 segundos o menos)\n",
    "#(24, 2)\n",
    "#(1, 2)\n",
    "#(3, 2)\n",
    "#(0, 12)\n",
    "#(1, 554)\n",
    "#(0, 8)\n",
    "#(1, 46)\n",
    "#(0, 46)\n",
    "#(1, 50)\n",
    "#(1, 52)\n"
   ]
  },
  {
   "cell_type": "markdown",
   "metadata": {},
   "source": [
    "## Parte 2: Estructuras de datos (listas enlazadas y grafos )\n",
    "\n",
    "**Ejercicio 4: listas enlazadas** (25 puntos)\n",
    "\n",
    " Modificar el ejercicio visto en clases de la hashList que en lugar de insertar al final del nodo (al final de la lista enlazada), siempre inserta los nodos en orden alfabetico.  Solo modifica la función de create_hash_list."
   ]
  },
  {
   "cell_type": "code",
   "execution_count": 5,
   "metadata": {},
   "outputs": [
    {
     "ename": "TypeError",
     "evalue": "read_customers() got an unexpected keyword argument 'encoding'",
     "output_type": "error",
     "traceback": [
      "\u001b[0;31m---------------------------------------------------------------------------\u001b[0m",
      "\u001b[0;31mTypeError\u001b[0m                                 Traceback (most recent call last)",
      "\u001b[1;32m/Users/jonathanvalencia/School/Ex2 O2022.ipynb Cell 15'\u001b[0m in \u001b[0;36m<cell line: 74>\u001b[0;34m()\u001b[0m\n\u001b[1;32m     <a href='vscode-notebook-cell:/Users/jonathanvalencia/School/Ex2%20O2022.ipynb#ch0000014?line=70'>71</a>\u001b[0m         \u001b[39melse\u001b[39;00m:\n\u001b[1;32m     <a href='vscode-notebook-cell:/Users/jonathanvalencia/School/Ex2%20O2022.ipynb#ch0000014?line=71'>72</a>\u001b[0m             \u001b[39mprint\u001b[39m(i, \u001b[39m\"\u001b[39m\u001b[39m: -\u001b[39m\u001b[39m\"\u001b[39m)\n\u001b[0;32m---> <a href='vscode-notebook-cell:/Users/jonathanvalencia/School/Ex2%20O2022.ipynb#ch0000014?line=73'>74</a>\u001b[0m customers \u001b[39m=\u001b[39m read_customers(\u001b[39m\"\u001b[39;49m\u001b[39mClientes.txt\u001b[39;49m\u001b[39m\"\u001b[39;49m,encoding\u001b[39m=\u001b[39;49m\u001b[39m'\u001b[39;49m\u001b[39mlatin-1\u001b[39;49m\u001b[39m'\u001b[39;49m)\n\u001b[1;32m     <a href='vscode-notebook-cell:/Users/jonathanvalencia/School/Ex2%20O2022.ipynb#ch0000014?line=74'>75</a>\u001b[0m \u001b[39mprint\u001b[39m(\u001b[39m\"\u001b[39m\u001b[39mNumber of customers\u001b[39m\u001b[39m\"\u001b[39m, \u001b[39mlen\u001b[39m(customers))\n\u001b[1;32m     <a href='vscode-notebook-cell:/Users/jonathanvalencia/School/Ex2%20O2022.ipynb#ch0000014?line=75'>76</a>\u001b[0m hashList \u001b[39m=\u001b[39m createHashList(customers)\n",
      "\u001b[0;31mTypeError\u001b[0m: read_customers() got an unexpected keyword argument 'encoding'"
     ]
    }
   ],
   "source": [
    "#Ordenar for RFC\n",
    "import csv\n",
    "from typing import List\n",
    " \n",
    "class Customer:\n",
    "    def __init__(self, rfc, name, address, index):\n",
    "        self.rfc = rfc\n",
    "        self.name = name\n",
    "        self.address = address\n",
    "        self.index = index\n",
    "    def __str__(self):\n",
    "        return \"********\\nRFC:{}\\nNAME:{},\\nADDRESS:{}\\n,INDEX:{}\\n********\".format(self.rfc,self.name,self.address,self.index)\n",
    "    def __repr__(self):\n",
    "        return self.__str__()\n",
    " \n",
    "def read_customers(filename):\n",
    "    customers =[]\n",
    "    csv.register_dialect('tabs', delimiter = '\\t')\n",
    "    \n",
    "    with open(filename, newline='') as csvfile:\n",
    "        data = list(csv.reader(csvfile, dialect='tabs'))\n",
    "        for i in range(1,len(data)):\n",
    "            line = data[i];\n",
    "            customers.append(Customer(line[1].strip(),line[0].strip(),line[2].strip(),i))\n",
    "    return customers\n",
    "\n",
    "def get_value(c):\n",
    "    #0..9 = 0..9    A..Z = 10-35\n",
    "    if c.isdigit():\n",
    "        return int(c)\n",
    "    return ord(c)-ord(\"A\")+10\n",
    "\n",
    "def getHashCode(rfc, size):\n",
    "    h= get_value(rfc[0])\n",
    "    for i in range(1, len(rfc)):\n",
    "        h= (h*36+get_value(rfc[i])) % size\n",
    "    return h\n",
    "\n",
    "class CustomerNode:\n",
    "    size = 0  \n",
    "    def __init__(self, customer: Customer) -> None:\n",
    "        self.customer = customer\n",
    "        self.next = None\n",
    "\n",
    "\n",
    "################# !MODIFICA EL CODIGO DE ESTA FUNCIÓN ##############\n",
    "def createHashList(customers: List[Customer]):\n",
    "    size = 100 #len(customers), dejaremos en 100 para probar la salida\n",
    "    CustomerNode.size = size\n",
    "    hashList = [None]*size\n",
    "    for c in customers:\n",
    "        hashCode = getHashCode(c.rfc, size)\n",
    "        if hashList[hashCode]:\n",
    "            current = hashList[hashCode]\n",
    "            while current.next:\n",
    "                current = current.next\n",
    "            current.next = CustomerNode(c)\n",
    "        else:\n",
    "            hashList[hashCode]= CustomerNode(c)\n",
    "    return hashList\n",
    "##################################################################\n",
    "\n",
    "def printHashList(hashList: List[CustomerNode]):\n",
    "    for i in range(len(hashList)):\n",
    "        if hashList[i]:\n",
    "            current = hashList[i]\n",
    "            print(i,\":\", end=\"\")\n",
    "            while current is not None:\n",
    "                print(current.customer.rfc+ \" \", end=\"\")\n",
    "                current = current.next\n",
    "            print()\n",
    "        else:\n",
    "            print(i, \": -\")\n",
    "\n",
    "customers = read_customers(\"Clientes.txt\",encoding='latin-1')\n",
    "print(\"Number of customers\", len(customers))\n",
    "hashList = createHashList(customers)\n",
    "printHashList(hashList)"
   ]
  },
  {
   "cell_type": "code",
   "execution_count": 1,
   "metadata": {},
   "outputs": [
    {
     "ename": "UnicodeDecodeError",
     "evalue": "'utf-8' codec can't decode byte 0xd1 in position 2971: invalid continuation byte",
     "output_type": "error",
     "traceback": [
      "\u001b[0;31m---------------------------------------------------------------------------\u001b[0m",
      "\u001b[0;31mUnicodeDecodeError\u001b[0m                        Traceback (most recent call last)",
      "\u001b[1;32m/Users/jonathanvalencia/School/Ex2 O2022.ipynb Cell 16'\u001b[0m in \u001b[0;36m<cell line: 28>\u001b[0;34m()\u001b[0m\n\u001b[1;32m     <a href='vscode-notebook-cell:/Users/jonathanvalencia/School/Ex2%20O2022.ipynb#ch0000015?line=25'>26</a>\u001b[0m             customers\u001b[39m.\u001b[39mappend(Customer(line[\u001b[39m1\u001b[39m]\u001b[39m.\u001b[39mstrip(),line[\u001b[39m0\u001b[39m]\u001b[39m.\u001b[39mstrip(),line[\u001b[39m2\u001b[39m]\u001b[39m.\u001b[39mstrip(),i))\n\u001b[1;32m     <a href='vscode-notebook-cell:/Users/jonathanvalencia/School/Ex2%20O2022.ipynb#ch0000015?line=26'>27</a>\u001b[0m     \u001b[39mreturn\u001b[39;00m customers\n\u001b[0;32m---> <a href='vscode-notebook-cell:/Users/jonathanvalencia/School/Ex2%20O2022.ipynb#ch0000015?line=27'>28</a>\u001b[0m customers \u001b[39m=\u001b[39m read_customers(\u001b[39m\"\u001b[39;49m\u001b[39mClientes.txt\u001b[39;49m\u001b[39m\"\u001b[39;49m)\n\u001b[1;32m     <a href='vscode-notebook-cell:/Users/jonathanvalencia/School/Ex2%20O2022.ipynb#ch0000015?line=28'>29</a>\u001b[0m \u001b[39mprint\u001b[39m(\u001b[39m\"\u001b[39m\u001b[39mNumber of customers\u001b[39m\u001b[39m\"\u001b[39m, \u001b[39mlen\u001b[39m(customers))\n\u001b[1;32m     <a href='vscode-notebook-cell:/Users/jonathanvalencia/School/Ex2%20O2022.ipynb#ch0000015?line=29'>30</a>\u001b[0m size \u001b[39m=\u001b[39m \u001b[39mlen\u001b[39m(customers)\n",
      "\u001b[1;32m/Users/jonathanvalencia/School/Ex2 O2022.ipynb Cell 16'\u001b[0m in \u001b[0;36mread_customers\u001b[0;34m(filename)\u001b[0m\n\u001b[1;32m     <a href='vscode-notebook-cell:/Users/jonathanvalencia/School/Ex2%20O2022.ipynb#ch0000015?line=19'>20</a>\u001b[0m csv\u001b[39m.\u001b[39mregister_dialect(\u001b[39m'\u001b[39m\u001b[39mtabs\u001b[39m\u001b[39m'\u001b[39m, delimiter \u001b[39m=\u001b[39m \u001b[39m'\u001b[39m\u001b[39m\\t\u001b[39;00m\u001b[39m'\u001b[39m)\n\u001b[1;32m     <a href='vscode-notebook-cell:/Users/jonathanvalencia/School/Ex2%20O2022.ipynb#ch0000015?line=21'>22</a>\u001b[0m \u001b[39mwith\u001b[39;00m \u001b[39mopen\u001b[39m(filename, newline\u001b[39m=\u001b[39m\u001b[39m'\u001b[39m\u001b[39m'\u001b[39m) \u001b[39mas\u001b[39;00m csvfile:\n\u001b[0;32m---> <a href='vscode-notebook-cell:/Users/jonathanvalencia/School/Ex2%20O2022.ipynb#ch0000015?line=22'>23</a>\u001b[0m     data \u001b[39m=\u001b[39m \u001b[39mlist\u001b[39;49m(csv\u001b[39m.\u001b[39;49mreader(csvfile, dialect\u001b[39m=\u001b[39;49m\u001b[39m'\u001b[39;49m\u001b[39mtabs\u001b[39;49m\u001b[39m'\u001b[39;49m))\n\u001b[1;32m     <a href='vscode-notebook-cell:/Users/jonathanvalencia/School/Ex2%20O2022.ipynb#ch0000015?line=23'>24</a>\u001b[0m     \u001b[39mfor\u001b[39;00m i \u001b[39min\u001b[39;00m \u001b[39mrange\u001b[39m(\u001b[39m1\u001b[39m,\u001b[39mlen\u001b[39m(data)):\n\u001b[1;32m     <a href='vscode-notebook-cell:/Users/jonathanvalencia/School/Ex2%20O2022.ipynb#ch0000015?line=24'>25</a>\u001b[0m         line \u001b[39m=\u001b[39m data[i];\n",
      "File \u001b[0;32m~/opt/anaconda3/lib/python3.9/codecs.py:322\u001b[0m, in \u001b[0;36mBufferedIncrementalDecoder.decode\u001b[0;34m(self, input, final)\u001b[0m\n\u001b[1;32m    <a href='file:///Users/jonathanvalencia/opt/anaconda3/lib/python3.9/codecs.py?line=318'>319</a>\u001b[0m \u001b[39mdef\u001b[39;00m \u001b[39mdecode\u001b[39m(\u001b[39mself\u001b[39m, \u001b[39minput\u001b[39m, final\u001b[39m=\u001b[39m\u001b[39mFalse\u001b[39;00m):\n\u001b[1;32m    <a href='file:///Users/jonathanvalencia/opt/anaconda3/lib/python3.9/codecs.py?line=319'>320</a>\u001b[0m     \u001b[39m# decode input (taking the buffer into account)\u001b[39;00m\n\u001b[1;32m    <a href='file:///Users/jonathanvalencia/opt/anaconda3/lib/python3.9/codecs.py?line=320'>321</a>\u001b[0m     data \u001b[39m=\u001b[39m \u001b[39mself\u001b[39m\u001b[39m.\u001b[39mbuffer \u001b[39m+\u001b[39m \u001b[39minput\u001b[39m\n\u001b[0;32m--> <a href='file:///Users/jonathanvalencia/opt/anaconda3/lib/python3.9/codecs.py?line=321'>322</a>\u001b[0m     (result, consumed) \u001b[39m=\u001b[39m \u001b[39mself\u001b[39;49m\u001b[39m.\u001b[39;49m_buffer_decode(data, \u001b[39mself\u001b[39;49m\u001b[39m.\u001b[39;49merrors, final)\n\u001b[1;32m    <a href='file:///Users/jonathanvalencia/opt/anaconda3/lib/python3.9/codecs.py?line=322'>323</a>\u001b[0m     \u001b[39m# keep undecoded input until the next call\u001b[39;00m\n\u001b[1;32m    <a href='file:///Users/jonathanvalencia/opt/anaconda3/lib/python3.9/codecs.py?line=323'>324</a>\u001b[0m     \u001b[39mself\u001b[39m\u001b[39m.\u001b[39mbuffer \u001b[39m=\u001b[39m data[consumed:]\n",
      "\u001b[0;31mUnicodeDecodeError\u001b[0m: 'utf-8' codec can't decode byte 0xd1 in position 2971: invalid continuation byte"
     ]
    }
   ],
   "source": [
    "import csv\n",
    "from typing import List\n",
    " \n",
    "class Customer:\n",
    "    def __init__(self, rfc, name, address, index):\n",
    "        self.rfc = rfc\n",
    "        self.name = name\n",
    "        self.address = address\n",
    "        self.index = index\n",
    "    \n",
    "    def __str__(self):\n",
    "        return \"********\\nRFC:{}\\nNAME:{},\\nADDRESS:{}\\n,INDEX:{}\\n********\".format(self.rfc,self.name,self.address,self.index)\n",
    "    \n",
    "    def __repr__(self):\n",
    "        return self.__str__()\n",
    " \n",
    " \n",
    "def read_customers(filename):\n",
    "    customers =[]\n",
    "    csv.register_dialect('tabs', delimiter = '\\t')\n",
    "    \n",
    "    with open(filename, newline='') as csvfile:\n",
    "        data = list(csv.reader(csvfile, dialect='tabs'))\n",
    "        for i in range(1,len(data)):\n",
    "            line = data[i];\n",
    "            customers.append(Customer(line[1].strip(),line[0].strip(),line[2].strip(),i))\n",
    "    return customers\n",
    "customers = read_customers(\"Clientes.txt\")\n",
    "print(\"Number of customers\", len(customers))\n",
    "size = len(customers)"
   ]
  },
  {
   "cell_type": "markdown",
   "metadata": {},
   "source": [
    "**Ejercicio 5 Grafos**  (15 puntos)  \n",
    "Un guía de turistas tiene la misión de llevar a N turistas desde un pueblo de partida a uno destino, en una región del país donde existen muchos pueblos pintorescos comunicados mediante carreteras de dos carriles. Como el guía no tiene vehículo, tiene que subirlos a un camión rural. El problema es que los camiones sólo van de un pueblo a otro, y tienen capacidad limitada. Como no existen camiones disponibles desde un pueblo a todos los demás, y cada camión puede tener diferente capacidad, el guía de turistas tiene que buscar una secuencia de camiones que lo lleve del pueblo inicial al destino, tal que el camión más pequeño en la ruta pueda llevar a todos los turistas.\n",
    "\n",
    "El mapa de entrada se representa mediante una matriz de adyacencia de un grafo no dirigido tal que, si no existe un camión entre las ciudades j, k, mapa\\[j\\]\\[k\\] = inf; en caso contrario, mapa\\[j\\]\\[k\\] almacena la capacidad del camión.\n",
    "\n",
    "Entrada:\n",
    "- matriz de adyacencia\n",
    "- arreglo de origenenes y destinos para cada test case \\[\\[start1, end1\\], \\[start2, end2\\], ... \\[startN, endN\\]\\]\n",
    "\n",
    "\n",
    "Salida:\n",
    "- true o false  si existe o no camino por cada testcase\n"
   ]
  },
  {
   "cell_type": "code",
   "execution_count": null,
   "metadata": {},
   "outputs": [],
   "source": [
    "def validRoute(mat,dest,pas):\n",
    "    pass\n",
    "\n",
    "#g1 es mat de adjaycencia\n",
    "#t1 son test cases\n",
    "#no se necesariamente vas de inciio a fin sin un intermedio"
   ]
  },
  {
   "cell_type": "code",
   "execution_count": null,
   "metadata": {},
   "outputs": [],
   "source": [
    "g1 = [[0, 14, 8, 19, 7, 17, 9, 11],[14, 0, 12, 9, 5, 7, 4, 9],[8, 12, 0, 11, 13, 5, 19, 10],[19, 9, 11, 0, 4, 7, 10, 11],[7, 5, 13, 4, 0, 5, 17, 4],[17, 7, 5, 7, 5, 0, 4, 7],[9, 4, 19, 10, 17, 4, 0, 4],[11, 9, 10, 11, 4, 7, 4, 0]]\n",
    "t1 = [[0, 2],[5, 1], [7, 6], [5, 5]]\n",
    "c1 = 13\n",
    "g2 = [[0, 14, 8, 19, 7, 17, 9, 11, 12, 9],[14, 0, 5, 7, 4, 9, 11, 13, 5, 19],[8, 5, 0, 10, 4, 7, 10, 11, 5, 17],[19, 7, 10, 0, 4, 4, 7, 4, 16, 8],[7, 4, 4, 4, 0, 8, 16, 8, 18, 10],[17, 9, 7, 4, 8, 0, 11, 15, 15, 6],[9, 11, 10, 7, 16, 11, 0, 7, 9, 11],[11, 13, 11, 4, 8, 15, 7, 0, 4, 5],[12, 5, 5, 16, 18, 15, 9, 4, 0, 12],[9, 19, 17, 8, 10, 6, 11, 5, 12, 0]]\n",
    "t2 = [[5, 0],[1, 9],[8, 2],[1, 3]]\n",
    "c2 = 18\n",
    "g3 = [[0, 16, 17, 8, 14, 5, 8, 7, 6, 14, 5, 6, 13, 13, 7, 4, 18, 19, 12, 5, 13, 13, 19, 19, 10, 12, 6, 5, 7, 12],[16, 0, 5, 11, 5, 6, 8, 18, 7, 6, 13, 9, 19, 15, 16, 9, 11, 19, 19, 11, 19, 10, 18, 9, 16, 13, 9, 18, 18, 16],[17, 5, 0, 17, 13, 4, 7, 6, 12, 8, 4, 10, 4, 6, 13, 17, 5, 17, 6, 13, 6, 13, 15, 18, 5, 14, 16, 10, 10, 7],[8, 11, 17, 0, 9, 11, 9, 17, 19, 14, 5, 6, 11, 9, 5, 14, 11, 16, 8, 13, 10, 13, 16, 12, 16, 13, 19, 12, 19, 7],[14, 5, 13, 9, 0, 9, 18, 14, 10, 4, 15, 11, 16, 10, 4, 12, 16, 7, 14, 6, 17, 15, 14, 10, 13, 19, 4, 15, 9, 19],[5, 6, 4, 11, 9, 0, 5, 8, 17, 9, 11, 18, 8, 9, 17, 4, 15, 18, 10, 6, 12, 8, 5, 6, 15, 10, 10, 4, 5, 8],[8, 8, 7, 9, 18, 5, 0, 18, 10, 18, 7, 7, 5, 18, 13, 19, 6, 19, 11, 15, 15, 6, 12, 16, 14, 13, 15, 12, 13, 8],[7, 18, 6, 17, 14, 8, 18, 0, 4, 18, 17, 17, 8, 11, 17, 17, 8, 8, 19, 19, 19, 19, 19, 15, 14, 19, 12, 4, 17, 15],[6, 7, 12, 19, 10, 17, 10, 4, 0, 19, 12, 4, 14, 11, 16, 7, 8, 8, 6, 12, 18, 4, 4, 17, 14, 15, 10, 17, 15, 13],[14, 6, 8, 14, 4, 9, 18, 18, 19, 0, 13, 8, 9, 11, 4, 6, 14, 4, 18, 15, 4, 18, 16, 14, 9, 17, 9, 19, 18, 19],[5, 13, 4, 5, 15, 11, 7, 17, 12, 13, 0, 10, 9, 4, 12, 9, 15, 13, 7, 13, 15, 13, 18, 4, 9, 6, 18, 19, 10, 13],[6, 9, 10, 6, 11, 18, 7, 17, 4, 8, 10, 0, 12, 15, 10, 13, 7, 13, 11, 13, 15, 13, 17, 12, 5, 16, 12, 16, 7, 15],[13, 19, 4, 11, 16, 8, 5, 8, 14, 9, 9, 12, 0, 8, 15, 13, 6, 13, 5, 17, 14, 6, 8, 15, 9, 16, 15, 5, 6, 4],[13, 15, 6, 9, 10, 9, 18, 11, 11, 11, 4, 15, 8, 0, 5, 7, 17, 10, 18, 18, 13, 10, 14, 13, 16, 11, 19, 9, 8, 11],[7, 16, 13, 5, 4, 17, 13, 17, 16, 4, 12, 10, 15, 5, 0, 10, 18, 18, 12, 12, 16, 18, 10, 13, 4, 10, 12, 5, 13, 19],[4, 9, 17, 14, 12, 4, 19, 17, 7, 6, 9, 13, 13, 7, 10, 0, 9, 11, 4, 11, 13, 18, 5, 16, 7, 13, 15, 17, 8, 11],[18, 11, 5, 11, 16, 15, 6, 8, 8, 14, 15, 7, 6, 17, 18, 9, 0, 9, 9, 4, 5, 15, 6, 17, 18, 17, 4, 5, 18, 8],[19, 19, 17, 16, 7, 18, 19, 8, 8, 4, 13, 13, 13, 10, 18, 11, 9, 0, 13, 12, 6, 8, 15, 12, 16, 11, 8, 15, 8, 15],[12, 19, 6, 8, 14, 10, 11, 19, 6, 18, 7, 11, 5, 18, 12, 4, 9, 13, 0, 6, 12, 10, 19, 13, 4, 9, 8, 19, 5, 14],[5, 11, 13, 13, 6, 6, 15, 19, 12, 15, 13, 13, 17, 18, 12, 11, 4, 12, 6, 0, 4, 5, 19, 5, 4, 16, 19, 9, 5, 13],[13, 19, 6, 10, 17, 12, 15, 19, 18, 4, 15, 15, 14, 13, 16, 13, 5, 6, 12, 4, 0, 16, 17, 5, 12, 11, 16, 18, 9, 16],[13, 10, 13, 13, 15, 8, 6, 19, 4, 18, 13, 13, 6, 10, 18, 18, 15, 8, 10, 5, 16, 0, 19, 8, 17, 8, 7, 6, 18, 14],[19, 18, 15, 16, 14, 5, 12, 19, 4, 16, 18, 17, 8, 14, 10, 5, 6, 15, 19, 19, 17, 19, 0, 16, 11, 10, 6, 14, 18, 9],[19, 9, 18, 12, 10, 6, 16, 15, 17, 14, 4, 12, 15, 13, 13, 16, 17, 12, 13, 5, 5, 8, 16, 0, 19, 7, 10, 5, 18, 4],[10, 16, 5, 16, 13, 15, 14, 14, 14, 9, 9, 5, 9, 16, 4, 7, 18, 16, 4, 4, 12, 17, 11, 19, 0, 18, 8, 12, 6, 14],[12, 13, 14, 13, 19, 10, 13, 19, 15, 17, 6, 16, 16, 11, 10, 13, 17, 11, 9, 16, 11, 8, 10, 7, 18, 0, 14, 6, 6, 6],[6, 9, 16, 19, 4, 10, 15, 12, 10, 9, 18, 12, 15, 19, 12, 15, 4, 8, 8, 19, 16, 7, 6, 10, 8, 14, 0, 12, 7, 15],[5, 18, 10, 12, 15, 4, 12, 4, 17, 19, 19, 16, 5, 9, 5, 17, 5, 15, 19, 9, 18, 6, 14, 5, 12, 6, 12, 0, 4, 7],[7, 18, 10, 19, 9, 5, 13, 17, 15, 18, 10, 7, 6, 8, 13, 8, 18, 8, 5, 5, 9, 18, 18, 18, 6, 6, 7, 4, 0, 15],[12, 16, 7, 7, 19, 8, 8, 15, 13, 19, 13, 15, 4, 11, 19, 11, 8, 15, 14, 13, 16, 14, 9, 4, 14, 6, 15, 7, 15, 0]] \n",
    "t3 = [[1, 0],[9, 0],[8, 9],[1, 21],[14, 14],[26, 25],[15, 13],[12, 5],[16, 4],[14, 20]]\n",
    "c3 = 19\n",
    "\n",
    "validRoute(g1,t1,c1)#F, T, F, T\n",
    "validRoute(g2,t2,c2)#F, T, F, F\n",
    "validRoute(g3,t3,c3)#T, T, T, T, T, T, T, F, F T"
   ]
  }
 ],
 "metadata": {
  "interpreter": {
   "hash": "f312ac07cc621ee4f40a8753f2120f4939e2a9ab4bf54deb33a6bf87ffd06ada"
  },
  "kernelspec": {
   "display_name": "Python 3.9.12 ('base')",
   "language": "python",
   "name": "python3"
  },
  "language_info": {
   "codemirror_mode": {
    "name": "ipython",
    "version": 3
   },
   "file_extension": ".py",
   "mimetype": "text/x-python",
   "name": "python",
   "nbconvert_exporter": "python",
   "pygments_lexer": "ipython3",
   "version": "3.9.12"
  },
  "orig_nbformat": 4,
  "vscode": {
   "interpreter": {
    "hash": "4a8e99c222ed7c6df4ecf438290c3bb619f48607c73575ab323d0768db98fde2"
   }
  }
 },
 "nbformat": 4,
 "nbformat_minor": 2
}
