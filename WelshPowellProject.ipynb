{
 "cells": [
  {
   "cell_type": "markdown",
   "metadata": {},
   "source": [
    "# __Coloreado de grafos usando el algoritmo Welsh-Powell__\n",
    "## Matematicas Avanzadas para Computación\n",
    "_Jonathan Valencia & David Martinez_"
   ]
  },
  {
   "cell_type": "markdown",
   "metadata": {},
   "source": [
    "Las librerias implementadas en este programa son networkx y matplotlib, librerias que hemos implementado en la materia de ADA para visualizar grafos de manera grafica."
   ]
  },
  {
   "cell_type": "code",
   "execution_count": 93,
   "metadata": {},
   "outputs": [],
   "source": [
    "import networkx as nx\n",
    "import matplotlib.pyplot as plt"
   ]
  },
  {
   "cell_type": "markdown",
   "metadata": {},
   "source": [
    "Comenzamos creando un grafo simple no dirijido, en este caso vamos a implementar el mismo grafo visto en clase con los estados de US.\n",
    "<br>Creamos un grafo vacio y vamos adjuntando los nodos y las aristas que conectan a cada uno"
   ]
  },
  {
   "cell_type": "code",
   "execution_count": 94,
   "metadata": {},
   "outputs": [],
   "source": [
    "upg = nx.Graph() #Grafo simple no dirijido\n",
    "\n",
    "# Node names\n",
    "nodes_name = {1:'Washington', 2:'Idaho', 3:'Montana', 4:'Oregon', 5:'California', 6:'Nevada', 7:'Utah',\n",
    "              8:'Arizona', 9:'Wyoming', 10:'Colorado', 11:'Nuevo Mexico'}\n",
    "\n",
    "# Add nodes\n",
    "upg.add_nodes_from(nodes_name.keys())\n",
    "\n",
    "# Add connected edges\n",
    "edges_list = [(1, 4), (1, 2), (2, 3), (2, 9), (2, 7), (3, 9), (4, 2), (4, 5), (4, 6), (5, 6), (5, 8), (6, 8), (6, 2), \n",
    "              (6, 7), (7, 8), (7, 10), (7, 9), (8, 11), (9, 10), (10, 11)]\n",
    "upg.add_edges_from(edges_list)"
   ]
  },
  {
   "cell_type": "markdown",
   "metadata": {},
   "source": [
    "Iniciamos la implementacion del algoritmo Welsh-Powell, si recordamos de nuestra clase, los pasos a seguir son:\n",
    "<br>\n",
    "1. Hallar el grado de cada vertice\n",
    "2. Ordenar los vetices de manera descendente de acuerdo a su grado\n",
    "3. Seleccionar la lista de colores a utilizar\n",
    "4. Moverse por la lista y colorear cada vertise que no esta conectado a un vertice de un mismo color\n",
    "5. Eliminar los vertices coloreados de la lista\n",
    "6. Repetir paso 4 hasta tener todos los vertices coloreados"
   ]
  },
  {
   "cell_type": "code",
   "execution_count": 95,
   "metadata": {},
   "outputs": [],
   "source": [
    "# Function to color graphs using the Welsh-Powell algorithm\n",
    "def graph_coloring_welsh_powell(g, verbose=False):\n",
    "    #Paso 3 Welsh\n",
    "    colors = dict()\n",
    "    vtx_degree = dict()\n",
    "    palette = [\"blue\", \"green\", \"red\", \"yellow\", \"pink\"] #green-->red red-->green\n",
    "    \n",
    "    # Paso 1\n",
    "    for v in g.nodes():\n",
    "        vtx_degree[v] = len(list(g.neighbors(v)))\n",
    "    \n",
    "    # Paso 2\n",
    "    vtx_sort = [k for k in sorted(vtx_degree, key=vtx_degree.get, reverse=True)]\n",
    "    if verbose:\n",
    "        print(vtx_sort)\n",
    "    \n",
    "    # Paso 3\n",
    "    c_ix = -1\n",
    "    while len(vtx_sort) > 0 and c_ix < len(palette):\n",
    "        c_ix += 1\n",
    "        if verbose:\n",
    "            print('color:', palette[c_ix], ', No. vertices:', len(vtx_sort))\n",
    "        \n",
    "        # Paso 4\n",
    "        colored_nodes = []\n",
    "        for v in vtx_sort:\n",
    "            if len(set(g.neighbors(v)).intersection(set(colored_nodes))) == 0:\n",
    "                colors[v] = palette[c_ix]\n",
    "                colored_nodes.append(v)\n",
    "                \n",
    "                if verbose:\n",
    "                    print('  ', v, '->', palette[c_ix], '->', list(g.neighbors(v)))\n",
    "        \n",
    "        # Paso 5\n",
    "        for v in colored_nodes:\n",
    "            if v in vtx_sort:\n",
    "                vtx_sort.remove(v)\n",
    "    \n",
    "    # Print NC\n",
    "    if verbose:\n",
    "        print('Numero cromatico:', (c_ix + 1))\n",
    "        \n",
    "        \n",
    "    return colors"
   ]
  },
  {
   "cell_type": "markdown",
   "metadata": {},
   "source": [
    "Ejecutamos la funcion, para este caso imprimiremos cada color que se uso en los respectivos nodos y al final imprimimos el numero cromatico"
   ]
  },
  {
   "cell_type": "code",
   "execution_count": 96,
   "metadata": {},
   "outputs": [
    {
     "name": "stdout",
     "output_type": "stream",
     "text": [
      "[2, 6, 7, 4, 8, 9, 5, 10, 1, 3, 11]\n",
      "color: blue , No. vertices: 11\n",
      "   2 -> blue -> [1, 3, 9, 7, 4, 6]\n",
      "   8 -> blue -> [5, 6, 7, 11]\n",
      "   10 -> blue -> [7, 9, 11]\n",
      "color: green , No. vertices: 8\n",
      "   6 -> green -> [4, 5, 8, 2, 7]\n",
      "   9 -> green -> [2, 3, 7, 10]\n",
      "   1 -> green -> [4, 2]\n",
      "   11 -> green -> [8, 10]\n",
      "color: red , No. vertices: 4\n",
      "   7 -> red -> [2, 6, 8, 10, 9]\n",
      "   4 -> red -> [1, 2, 5, 6]\n",
      "   3 -> red -> [2, 9]\n",
      "color: yellow , No. vertices: 1\n",
      "   5 -> yellow -> [4, 6, 8]\n",
      "Numero cromatico: 4\n"
     ]
    }
   ],
   "source": [
    "# Get colors by edges\n",
    "vtx_colors = graph_coloring_welsh_powell(upg, True)"
   ]
  },
  {
   "cell_type": "markdown",
   "metadata": {},
   "source": [
    "# Implementación grafica"
   ]
  },
  {
   "cell_type": "markdown",
   "metadata": {},
   "source": [
    "Para efectos de visualizacion vamos acomodar(lo mas posible) los nodos de acuerdo a los ejemplos que vimos en clase. Esto se hace asignando coordenadas a cada nodo:"
   ]
  },
  {
   "cell_type": "code",
   "execution_count": 97,
   "metadata": {},
   "outputs": [],
   "source": [
    "# Coordinates of each node\n",
    "upg.nodes[1]['pos']  = (0,4)\n",
    "upg.nodes[2]['pos']  = (5,3) #Idaho\n",
    "upg.nodes[3]['pos']  = (6.5, 4)#Montana\n",
    "upg.nodes[4]['pos']  = (0, 1.5)\n",
    "upg.nodes[5]['pos']  = (0, -1)\n",
    "upg.nodes[6]['pos']  = (2, 0)#Nevada\n",
    "upg.nodes[7]['pos']  = (4, 1) #Utah\n",
    "upg.nodes[8]['pos']  = (4, -1)#AZ\n",
    "upg.nodes[9]['pos']  = (8, 3) #Wyoming\n",
    "upg.nodes[10]['pos'] = (6,1) #Colorado\n",
    "upg.nodes[11]['pos'] = (6, -1)\n",
    "\n",
    "\n",
    "# Positions -> dictionary\n",
    "pos = nx.get_node_attributes(upg, 'pos')"
   ]
  },
  {
   "cell_type": "markdown",
   "metadata": {},
   "source": [
    "Finalmente, vamos a hacer un plot de nuestro grafo con las etiquetas correspondientes y listo, tenemos nuestro grafo coloreado justo como en clase"
   ]
  },
  {
   "cell_type": "code",
   "execution_count": 99,
   "metadata": {},
   "outputs": [
    {
     "data": {
      "image/png": "[encoded data removed]",
      "text/plain": [
       "<Figure size 576x864 with 1 Axes>"
      ]
     },
     "metadata": {},
     "output_type": "display_data"
    }
   ],
   "source": [
    "# Nodes labels\n",
    "node_colors = []\n",
    "for n in upg.nodes():\n",
    "    node_colors.append(vtx_colors[n])\n",
    "\n",
    "# Plot\n",
    "plt.rcParams[\"figure.figsize\"] = [8, 12]\n",
    "nx.draw_networkx_nodes(upg, pos, nodelist=upg.nodes(), node_color=node_colors, alpha=1)\n",
    "nx.draw_networkx_edges(upg, pos, edgelist=upg.edges(), width=1, alpha=0.7, edge_color='white') #dark mode\n",
    "nx.draw_networkx_labels(upg, pos, nodes_name, font_size=10, font_color='white')\n",
    "plt.title('Welsh-Powell Coloring of US States', fontsize=14)\n",
    "plt.axis('off')\n",
    "plt.show()"
   ]
  }
 ],
 "metadata": {
  "interpreter": {
   "hash": "f312ac07cc621ee4f40a8753f2120f4939e2a9ab4bf54deb33a6bf87ffd06ada"
  },
  "kernelspec": {
   "display_name": "Python 3.9.12 ('base')",
   "language": "python",
   "name": "python3"
  },
  "language_info": {
   "codemirror_mode": {
    "name": "ipython",
    "version": 3
   },
   "file_extension": ".py",
   "mimetype": "text/x-python",
   "name": "python",
   "nbconvert_exporter": "python",
   "pygments_lexer": "ipython3",
   "version": "3.9.12"
  },
  "orig_nbformat": 4
 },
 "nbformat": 4,
 "nbformat_minor": 2
}
